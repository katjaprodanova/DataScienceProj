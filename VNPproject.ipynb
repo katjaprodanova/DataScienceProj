{
  "nbformat": 4,
  "nbformat_minor": 0,
  "metadata": {
    "colab": {
      "name": "VNPproject.ipynb",
      "provenance": [],
      "collapsed_sections": [],
      "toc_visible": true
    },
    "kernelspec": {
      "name": "python3",
      "display_name": "Python 3"
    },
    "language_info": {
      "name": "python"
    }
  },
  "cells": [
    {
      "cell_type": "markdown",
      "source": [
        "193048 -  World Bank Youth Unemployment\n",
        "Rates: https://www.kaggle.com/sovannt/world-bank-youth-unemployment"
      ],
      "metadata": {
        "id": "V-2vx9WQtl8N"
      }
    },
    {
      "cell_type": "markdown",
      "source": [
        "#Importing/reading the data"
      ],
      "metadata": {
        "id": "2euyIdKJv3z8"
      }
    },
    {
      "cell_type": "markdown",
      "source": [
        "Importing my data from drive"
      ],
      "metadata": {
        "id": "X8xoH7R5lbQY"
      }
    },
    {
      "cell_type": "code",
      "execution_count": 1,
      "metadata": {
        "id": "r4pNx_nFTjOa"
      },
      "outputs": [],
      "source": [
        "from google.colab import drive"
      ]
    },
    {
      "cell_type": "code",
      "source": [
        "drive.mount('/content/drive')"
      ],
      "metadata": {
        "colab": {
          "base_uri": "https://localhost:8080/"
        },
        "id": "hb1OuBZwcXer",
        "outputId": "2677ec15-ced7-4e4b-a822-639baf20a1a5"
      },
      "execution_count": 2,
      "outputs": [
        {
          "output_type": "stream",
          "name": "stdout",
          "text": [
            "Drive already mounted at /content/drive; to attempt to forcibly remount, call drive.mount(\"/content/drive\", force_remount=True).\n"
          ]
        }
      ]
    },
    {
      "cell_type": "code",
      "source": [
        "import numpy as np\n",
        "import matplotlib.pyplot as plt\n",
        "import pandas as pd"
      ],
      "metadata": {
        "id": "yu0372RpcejI"
      },
      "execution_count": 3,
      "outputs": []
    },
    {
      "cell_type": "code",
      "source": [
        "data = pd.read_csv('/content/drive/MyDrive/VNPproject/API_ILO_country_YU.csv')"
      ],
      "metadata": {
        "id": "k4ZNtSQZdGR3"
      },
      "execution_count": 4,
      "outputs": []
    },
    {
      "cell_type": "markdown",
      "source": [
        "#View the data"
      ],
      "metadata": {
        "id": "Kz6vv8Hiv_Rd"
      }
    },
    {
      "cell_type": "code",
      "source": [
        "data"
      ],
      "metadata": {
        "colab": {
          "base_uri": "https://localhost:8080/",
          "height": 424
        },
        "id": "xfo0mqpij79X",
        "outputId": "e8540849-c448-4211-91e4-e91425989d16"
      },
      "execution_count": 5,
      "outputs": [
        {
          "output_type": "execute_result",
          "data": {
            "text/plain": [
              "             Country Name Country Code       2010       2011       2012  \\\n",
              "0             Afghanistan          AFG  20.600000  20.900000  19.700001   \n",
              "1                  Angola          AGO  10.800000  10.700000  10.700000   \n",
              "2                 Albania          ALB  25.799999  27.000000  28.299999   \n",
              "3              Arab World          ARB  25.022214  28.117516  29.113212   \n",
              "4    United Arab Emirates          ARE   9.800000   9.800000   9.800000   \n",
              "..                    ...          ...        ...        ...        ...   \n",
              "214           Yemen, Rep.          YEM  30.299999  30.000000  30.200001   \n",
              "215          South Africa          ZAF  50.799999  50.099998  52.200001   \n",
              "216      Congo, Dem. Rep.          COD  12.300000  12.300000  12.300000   \n",
              "217                Zambia          ZMB  26.400000  26.600000  26.600000   \n",
              "218              Zimbabwe          ZWE   9.600000   8.300000   8.300000   \n",
              "\n",
              "          2013       2014  \n",
              "0    21.100000  20.799999  \n",
              "1    10.600000  10.500000  \n",
              "2    28.700001  29.200001  \n",
              "3    29.335306  29.704569  \n",
              "4     9.900000  10.000000  \n",
              "..         ...        ...  \n",
              "214  30.200001  29.900000  \n",
              "215  51.400002  52.599998  \n",
              "216  12.200000  11.900000  \n",
              "217  25.500000  25.100000  \n",
              "218   8.900000   9.400000  \n",
              "\n",
              "[219 rows x 7 columns]"
            ],
            "text/html": [
              "\n",
              "  <div id=\"df-2ed921f2-8e59-4cdd-94d2-14883a1032ab\">\n",
              "    <div class=\"colab-df-container\">\n",
              "      <div>\n",
              "<style scoped>\n",
              "    .dataframe tbody tr th:only-of-type {\n",
              "        vertical-align: middle;\n",
              "    }\n",
              "\n",
              "    .dataframe tbody tr th {\n",
              "        vertical-align: top;\n",
              "    }\n",
              "\n",
              "    .dataframe thead th {\n",
              "        text-align: right;\n",
              "    }\n",
              "</style>\n",
              "<table border=\"1\" class=\"dataframe\">\n",
              "  <thead>\n",
              "    <tr style=\"text-align: right;\">\n",
              "      <th></th>\n",
              "      <th>Country Name</th>\n",
              "      <th>Country Code</th>\n",
              "      <th>2010</th>\n",
              "      <th>2011</th>\n",
              "      <th>2012</th>\n",
              "      <th>2013</th>\n",
              "      <th>2014</th>\n",
              "    </tr>\n",
              "  </thead>\n",
              "  <tbody>\n",
              "    <tr>\n",
              "      <th>0</th>\n",
              "      <td>Afghanistan</td>\n",
              "      <td>AFG</td>\n",
              "      <td>20.600000</td>\n",
              "      <td>20.900000</td>\n",
              "      <td>19.700001</td>\n",
              "      <td>21.100000</td>\n",
              "      <td>20.799999</td>\n",
              "    </tr>\n",
              "    <tr>\n",
              "      <th>1</th>\n",
              "      <td>Angola</td>\n",
              "      <td>AGO</td>\n",
              "      <td>10.800000</td>\n",
              "      <td>10.700000</td>\n",
              "      <td>10.700000</td>\n",
              "      <td>10.600000</td>\n",
              "      <td>10.500000</td>\n",
              "    </tr>\n",
              "    <tr>\n",
              "      <th>2</th>\n",
              "      <td>Albania</td>\n",
              "      <td>ALB</td>\n",
              "      <td>25.799999</td>\n",
              "      <td>27.000000</td>\n",
              "      <td>28.299999</td>\n",
              "      <td>28.700001</td>\n",
              "      <td>29.200001</td>\n",
              "    </tr>\n",
              "    <tr>\n",
              "      <th>3</th>\n",
              "      <td>Arab World</td>\n",
              "      <td>ARB</td>\n",
              "      <td>25.022214</td>\n",
              "      <td>28.117516</td>\n",
              "      <td>29.113212</td>\n",
              "      <td>29.335306</td>\n",
              "      <td>29.704569</td>\n",
              "    </tr>\n",
              "    <tr>\n",
              "      <th>4</th>\n",
              "      <td>United Arab Emirates</td>\n",
              "      <td>ARE</td>\n",
              "      <td>9.800000</td>\n",
              "      <td>9.800000</td>\n",
              "      <td>9.800000</td>\n",
              "      <td>9.900000</td>\n",
              "      <td>10.000000</td>\n",
              "    </tr>\n",
              "    <tr>\n",
              "      <th>...</th>\n",
              "      <td>...</td>\n",
              "      <td>...</td>\n",
              "      <td>...</td>\n",
              "      <td>...</td>\n",
              "      <td>...</td>\n",
              "      <td>...</td>\n",
              "      <td>...</td>\n",
              "    </tr>\n",
              "    <tr>\n",
              "      <th>214</th>\n",
              "      <td>Yemen, Rep.</td>\n",
              "      <td>YEM</td>\n",
              "      <td>30.299999</td>\n",
              "      <td>30.000000</td>\n",
              "      <td>30.200001</td>\n",
              "      <td>30.200001</td>\n",
              "      <td>29.900000</td>\n",
              "    </tr>\n",
              "    <tr>\n",
              "      <th>215</th>\n",
              "      <td>South Africa</td>\n",
              "      <td>ZAF</td>\n",
              "      <td>50.799999</td>\n",
              "      <td>50.099998</td>\n",
              "      <td>52.200001</td>\n",
              "      <td>51.400002</td>\n",
              "      <td>52.599998</td>\n",
              "    </tr>\n",
              "    <tr>\n",
              "      <th>216</th>\n",
              "      <td>Congo, Dem. Rep.</td>\n",
              "      <td>COD</td>\n",
              "      <td>12.300000</td>\n",
              "      <td>12.300000</td>\n",
              "      <td>12.300000</td>\n",
              "      <td>12.200000</td>\n",
              "      <td>11.900000</td>\n",
              "    </tr>\n",
              "    <tr>\n",
              "      <th>217</th>\n",
              "      <td>Zambia</td>\n",
              "      <td>ZMB</td>\n",
              "      <td>26.400000</td>\n",
              "      <td>26.600000</td>\n",
              "      <td>26.600000</td>\n",
              "      <td>25.500000</td>\n",
              "      <td>25.100000</td>\n",
              "    </tr>\n",
              "    <tr>\n",
              "      <th>218</th>\n",
              "      <td>Zimbabwe</td>\n",
              "      <td>ZWE</td>\n",
              "      <td>9.600000</td>\n",
              "      <td>8.300000</td>\n",
              "      <td>8.300000</td>\n",
              "      <td>8.900000</td>\n",
              "      <td>9.400000</td>\n",
              "    </tr>\n",
              "  </tbody>\n",
              "</table>\n",
              "<p>219 rows × 7 columns</p>\n",
              "</div>\n",
              "      <button class=\"colab-df-convert\" onclick=\"convertToInteractive('df-2ed921f2-8e59-4cdd-94d2-14883a1032ab')\"\n",
              "              title=\"Convert this dataframe to an interactive table.\"\n",
              "              style=\"display:none;\">\n",
              "        \n",
              "  <svg xmlns=\"http://www.w3.org/2000/svg\" height=\"24px\"viewBox=\"0 0 24 24\"\n",
              "       width=\"24px\">\n",
              "    <path d=\"M0 0h24v24H0V0z\" fill=\"none\"/>\n",
              "    <path d=\"M18.56 5.44l.94 2.06.94-2.06 2.06-.94-2.06-.94-.94-2.06-.94 2.06-2.06.94zm-11 1L8.5 8.5l.94-2.06 2.06-.94-2.06-.94L8.5 2.5l-.94 2.06-2.06.94zm10 10l.94 2.06.94-2.06 2.06-.94-2.06-.94-.94-2.06-.94 2.06-2.06.94z\"/><path d=\"M17.41 7.96l-1.37-1.37c-.4-.4-.92-.59-1.43-.59-.52 0-1.04.2-1.43.59L10.3 9.45l-7.72 7.72c-.78.78-.78 2.05 0 2.83L4 21.41c.39.39.9.59 1.41.59.51 0 1.02-.2 1.41-.59l7.78-7.78 2.81-2.81c.8-.78.8-2.07 0-2.86zM5.41 20L4 18.59l7.72-7.72 1.47 1.35L5.41 20z\"/>\n",
              "  </svg>\n",
              "      </button>\n",
              "      \n",
              "  <style>\n",
              "    .colab-df-container {\n",
              "      display:flex;\n",
              "      flex-wrap:wrap;\n",
              "      gap: 12px;\n",
              "    }\n",
              "\n",
              "    .colab-df-convert {\n",
              "      background-color: #E8F0FE;\n",
              "      border: none;\n",
              "      border-radius: 50%;\n",
              "      cursor: pointer;\n",
              "      display: none;\n",
              "      fill: #1967D2;\n",
              "      height: 32px;\n",
              "      padding: 0 0 0 0;\n",
              "      width: 32px;\n",
              "    }\n",
              "\n",
              "    .colab-df-convert:hover {\n",
              "      background-color: #E2EBFA;\n",
              "      box-shadow: 0px 1px 2px rgba(60, 64, 67, 0.3), 0px 1px 3px 1px rgba(60, 64, 67, 0.15);\n",
              "      fill: #174EA6;\n",
              "    }\n",
              "\n",
              "    [theme=dark] .colab-df-convert {\n",
              "      background-color: #3B4455;\n",
              "      fill: #D2E3FC;\n",
              "    }\n",
              "\n",
              "    [theme=dark] .colab-df-convert:hover {\n",
              "      background-color: #434B5C;\n",
              "      box-shadow: 0px 1px 3px 1px rgba(0, 0, 0, 0.15);\n",
              "      filter: drop-shadow(0px 1px 2px rgba(0, 0, 0, 0.3));\n",
              "      fill: #FFFFFF;\n",
              "    }\n",
              "  </style>\n",
              "\n",
              "      <script>\n",
              "        const buttonEl =\n",
              "          document.querySelector('#df-2ed921f2-8e59-4cdd-94d2-14883a1032ab button.colab-df-convert');\n",
              "        buttonEl.style.display =\n",
              "          google.colab.kernel.accessAllowed ? 'block' : 'none';\n",
              "\n",
              "        async function convertToInteractive(key) {\n",
              "          const element = document.querySelector('#df-2ed921f2-8e59-4cdd-94d2-14883a1032ab');\n",
              "          const dataTable =\n",
              "            await google.colab.kernel.invokeFunction('convertToInteractive',\n",
              "                                                     [key], {});\n",
              "          if (!dataTable) return;\n",
              "\n",
              "          const docLinkHtml = 'Like what you see? Visit the ' +\n",
              "            '<a target=\"_blank\" href=https://colab.research.google.com/notebooks/data_table.ipynb>data table notebook</a>'\n",
              "            + ' to learn more about interactive tables.';\n",
              "          element.innerHTML = '';\n",
              "          dataTable['output_type'] = 'display_data';\n",
              "          await google.colab.output.renderOutput(dataTable, element);\n",
              "          const docLink = document.createElement('div');\n",
              "          docLink.innerHTML = docLinkHtml;\n",
              "          element.appendChild(docLink);\n",
              "        }\n",
              "      </script>\n",
              "    </div>\n",
              "  </div>\n",
              "  "
            ]
          },
          "metadata": {},
          "execution_count": 5
        }
      ]
    },
    {
      "cell_type": "markdown",
      "source": [
        "Missing values"
      ],
      "metadata": {
        "id": "WX5GkD5OlnRx"
      }
    },
    {
      "cell_type": "code",
      "source": [
        "num_of_missing_values = data.isnull().sum()"
      ],
      "metadata": {
        "id": "R4TpM6WpkJPz"
      },
      "execution_count": 6,
      "outputs": []
    },
    {
      "cell_type": "code",
      "source": [
        "num_of_missing_values"
      ],
      "metadata": {
        "colab": {
          "base_uri": "https://localhost:8080/"
        },
        "id": "wAKkw5YdbKF-",
        "outputId": "88c88229-e7b9-499c-95e6-b8942bb26031"
      },
      "execution_count": 7,
      "outputs": [
        {
          "output_type": "execute_result",
          "data": {
            "text/plain": [
              "Country Name    0\n",
              "Country Code    0\n",
              "2010            0\n",
              "2011            0\n",
              "2012            0\n",
              "2013            0\n",
              "2014            0\n",
              "dtype: int64"
            ]
          },
          "metadata": {},
          "execution_count": 7
        }
      ]
    },
    {
      "cell_type": "markdown",
      "source": [
        "There arent any missing value"
      ],
      "metadata": {
        "id": "fbG7-w-WcouY"
      }
    },
    {
      "cell_type": "markdown",
      "source": [
        ""
      ],
      "metadata": {
        "id": "jhNpX7vLwDJn"
      }
    },
    {
      "cell_type": "markdown",
      "source": [
        "# Data Analysis -EDA\n",
        "\n",
        "---\n",
        "\n"
      ],
      "metadata": {
        "id": "eydd2LgFfiL_"
      }
    },
    {
      "cell_type": "code",
      "source": [
        "data.info()"
      ],
      "metadata": {
        "colab": {
          "base_uri": "https://localhost:8080/"
        },
        "id": "IP_UMEywfhlI",
        "outputId": "6619bc56-e110-41f7-d281-1f2267f20af6"
      },
      "execution_count": 8,
      "outputs": [
        {
          "output_type": "stream",
          "name": "stdout",
          "text": [
            "<class 'pandas.core.frame.DataFrame'>\n",
            "RangeIndex: 219 entries, 0 to 218\n",
            "Data columns (total 7 columns):\n",
            " #   Column        Non-Null Count  Dtype  \n",
            "---  ------        --------------  -----  \n",
            " 0   Country Name  219 non-null    object \n",
            " 1   Country Code  219 non-null    object \n",
            " 2   2010          219 non-null    float64\n",
            " 3   2011          219 non-null    float64\n",
            " 4   2012          219 non-null    float64\n",
            " 5   2013          219 non-null    float64\n",
            " 6   2014          219 non-null    float64\n",
            "dtypes: float64(5), object(2)\n",
            "memory usage: 12.1+ KB\n"
          ]
        }
      ]
    },
    {
      "cell_type": "markdown",
      "source": [
        "# Renaming the columns for easier access\n"
      ],
      "metadata": {
        "id": "CJQwwqScy14M"
      }
    },
    {
      "cell_type": "code",
      "source": [
        "data.columns=['Country','Code','YR0','YR1','YR2','YR3','YR4']"
      ],
      "metadata": {
        "id": "kENDOhp0ld4J"
      },
      "execution_count": 9,
      "outputs": []
    },
    {
      "cell_type": "markdown",
      "source": [
        "for example, which countries have more than 50 % unemployment, in each given year"
      ],
      "metadata": {
        "id": "7O9h_xw_91Sa"
      }
    },
    {
      "cell_type": "markdown",
      "source": [
        "More than 50% unemployment in 2010"
      ],
      "metadata": {
        "id": "XmgmemSg6hdK"
      }
    },
    {
      "cell_type": "code",
      "source": [
        "df_2010_morethan50= data[data.YR0 >= 50]\n",
        "df_2010_morethan50[['Country','YR0']]"
      ],
      "metadata": {
        "colab": {
          "base_uri": "https://localhost:8080/",
          "height": 143
        },
        "id": "IBNB4X1l63mV",
        "outputId": "f1c48281-2839-4676-d409-f5b2832f7e5d"
      },
      "execution_count": 10,
      "outputs": [
        {
          "output_type": "execute_result",
          "data": {
            "text/plain": [
              "                    Country        YR0\n",
              "18   Bosnia and Herzegovina  57.200001\n",
              "129          Macedonia, FYR  53.700001\n",
              "215            South Africa  50.799999"
            ],
            "text/html": [
              "\n",
              "  <div id=\"df-2496b9fc-70b5-4f21-bc0c-a8fb40259b5f\">\n",
              "    <div class=\"colab-df-container\">\n",
              "      <div>\n",
              "<style scoped>\n",
              "    .dataframe tbody tr th:only-of-type {\n",
              "        vertical-align: middle;\n",
              "    }\n",
              "\n",
              "    .dataframe tbody tr th {\n",
              "        vertical-align: top;\n",
              "    }\n",
              "\n",
              "    .dataframe thead th {\n",
              "        text-align: right;\n",
              "    }\n",
              "</style>\n",
              "<table border=\"1\" class=\"dataframe\">\n",
              "  <thead>\n",
              "    <tr style=\"text-align: right;\">\n",
              "      <th></th>\n",
              "      <th>Country</th>\n",
              "      <th>YR0</th>\n",
              "    </tr>\n",
              "  </thead>\n",
              "  <tbody>\n",
              "    <tr>\n",
              "      <th>18</th>\n",
              "      <td>Bosnia and Herzegovina</td>\n",
              "      <td>57.200001</td>\n",
              "    </tr>\n",
              "    <tr>\n",
              "      <th>129</th>\n",
              "      <td>Macedonia, FYR</td>\n",
              "      <td>53.700001</td>\n",
              "    </tr>\n",
              "    <tr>\n",
              "      <th>215</th>\n",
              "      <td>South Africa</td>\n",
              "      <td>50.799999</td>\n",
              "    </tr>\n",
              "  </tbody>\n",
              "</table>\n",
              "</div>\n",
              "      <button class=\"colab-df-convert\" onclick=\"convertToInteractive('df-2496b9fc-70b5-4f21-bc0c-a8fb40259b5f')\"\n",
              "              title=\"Convert this dataframe to an interactive table.\"\n",
              "              style=\"display:none;\">\n",
              "        \n",
              "  <svg xmlns=\"http://www.w3.org/2000/svg\" height=\"24px\"viewBox=\"0 0 24 24\"\n",
              "       width=\"24px\">\n",
              "    <path d=\"M0 0h24v24H0V0z\" fill=\"none\"/>\n",
              "    <path d=\"M18.56 5.44l.94 2.06.94-2.06 2.06-.94-2.06-.94-.94-2.06-.94 2.06-2.06.94zm-11 1L8.5 8.5l.94-2.06 2.06-.94-2.06-.94L8.5 2.5l-.94 2.06-2.06.94zm10 10l.94 2.06.94-2.06 2.06-.94-2.06-.94-.94-2.06-.94 2.06-2.06.94z\"/><path d=\"M17.41 7.96l-1.37-1.37c-.4-.4-.92-.59-1.43-.59-.52 0-1.04.2-1.43.59L10.3 9.45l-7.72 7.72c-.78.78-.78 2.05 0 2.83L4 21.41c.39.39.9.59 1.41.59.51 0 1.02-.2 1.41-.59l7.78-7.78 2.81-2.81c.8-.78.8-2.07 0-2.86zM5.41 20L4 18.59l7.72-7.72 1.47 1.35L5.41 20z\"/>\n",
              "  </svg>\n",
              "      </button>\n",
              "      \n",
              "  <style>\n",
              "    .colab-df-container {\n",
              "      display:flex;\n",
              "      flex-wrap:wrap;\n",
              "      gap: 12px;\n",
              "    }\n",
              "\n",
              "    .colab-df-convert {\n",
              "      background-color: #E8F0FE;\n",
              "      border: none;\n",
              "      border-radius: 50%;\n",
              "      cursor: pointer;\n",
              "      display: none;\n",
              "      fill: #1967D2;\n",
              "      height: 32px;\n",
              "      padding: 0 0 0 0;\n",
              "      width: 32px;\n",
              "    }\n",
              "\n",
              "    .colab-df-convert:hover {\n",
              "      background-color: #E2EBFA;\n",
              "      box-shadow: 0px 1px 2px rgba(60, 64, 67, 0.3), 0px 1px 3px 1px rgba(60, 64, 67, 0.15);\n",
              "      fill: #174EA6;\n",
              "    }\n",
              "\n",
              "    [theme=dark] .colab-df-convert {\n",
              "      background-color: #3B4455;\n",
              "      fill: #D2E3FC;\n",
              "    }\n",
              "\n",
              "    [theme=dark] .colab-df-convert:hover {\n",
              "      background-color: #434B5C;\n",
              "      box-shadow: 0px 1px 3px 1px rgba(0, 0, 0, 0.15);\n",
              "      filter: drop-shadow(0px 1px 2px rgba(0, 0, 0, 0.3));\n",
              "      fill: #FFFFFF;\n",
              "    }\n",
              "  </style>\n",
              "\n",
              "      <script>\n",
              "        const buttonEl =\n",
              "          document.querySelector('#df-2496b9fc-70b5-4f21-bc0c-a8fb40259b5f button.colab-df-convert');\n",
              "        buttonEl.style.display =\n",
              "          google.colab.kernel.accessAllowed ? 'block' : 'none';\n",
              "\n",
              "        async function convertToInteractive(key) {\n",
              "          const element = document.querySelector('#df-2496b9fc-70b5-4f21-bc0c-a8fb40259b5f');\n",
              "          const dataTable =\n",
              "            await google.colab.kernel.invokeFunction('convertToInteractive',\n",
              "                                                     [key], {});\n",
              "          if (!dataTable) return;\n",
              "\n",
              "          const docLinkHtml = 'Like what you see? Visit the ' +\n",
              "            '<a target=\"_blank\" href=https://colab.research.google.com/notebooks/data_table.ipynb>data table notebook</a>'\n",
              "            + ' to learn more about interactive tables.';\n",
              "          element.innerHTML = '';\n",
              "          dataTable['output_type'] = 'display_data';\n",
              "          await google.colab.output.renderOutput(dataTable, element);\n",
              "          const docLink = document.createElement('div');\n",
              "          docLink.innerHTML = docLinkHtml;\n",
              "          element.appendChild(docLink);\n",
              "        }\n",
              "      </script>\n",
              "    </div>\n",
              "  </div>\n",
              "  "
            ]
          },
          "metadata": {},
          "execution_count": 10
        }
      ]
    },
    {
      "cell_type": "markdown",
      "source": [
        "More than 50% unemployment in 2011"
      ],
      "metadata": {
        "id": "svyou5gIzhQT"
      }
    },
    {
      "cell_type": "code",
      "source": [
        "df_2011_morethan50= data[data.YR1 >= 50]"
      ],
      "metadata": {
        "id": "NtKMl8FncobH"
      },
      "execution_count": 11,
      "outputs": []
    },
    {
      "cell_type": "code",
      "source": [
        "df_2011_morethan50[['Country','YR1']]"
      ],
      "metadata": {
        "colab": {
          "base_uri": "https://localhost:8080/",
          "height": 175
        },
        "id": "2jZScjk0zeCU",
        "outputId": "7aa6b270-958d-4351-f3c5-caf84554de98"
      },
      "execution_count": 12,
      "outputs": [
        {
          "output_type": "execute_result",
          "data": {
            "text/plain": [
              "                    Country        YR1\n",
              "18   Bosnia and Herzegovina  57.099998\n",
              "129          Macedonia, FYR  55.400002\n",
              "178                  Serbia  50.400002\n",
              "215            South Africa  50.099998"
            ],
            "text/html": [
              "\n",
              "  <div id=\"df-9c498318-b02a-47e9-9743-4127248869ba\">\n",
              "    <div class=\"colab-df-container\">\n",
              "      <div>\n",
              "<style scoped>\n",
              "    .dataframe tbody tr th:only-of-type {\n",
              "        vertical-align: middle;\n",
              "    }\n",
              "\n",
              "    .dataframe tbody tr th {\n",
              "        vertical-align: top;\n",
              "    }\n",
              "\n",
              "    .dataframe thead th {\n",
              "        text-align: right;\n",
              "    }\n",
              "</style>\n",
              "<table border=\"1\" class=\"dataframe\">\n",
              "  <thead>\n",
              "    <tr style=\"text-align: right;\">\n",
              "      <th></th>\n",
              "      <th>Country</th>\n",
              "      <th>YR1</th>\n",
              "    </tr>\n",
              "  </thead>\n",
              "  <tbody>\n",
              "    <tr>\n",
              "      <th>18</th>\n",
              "      <td>Bosnia and Herzegovina</td>\n",
              "      <td>57.099998</td>\n",
              "    </tr>\n",
              "    <tr>\n",
              "      <th>129</th>\n",
              "      <td>Macedonia, FYR</td>\n",
              "      <td>55.400002</td>\n",
              "    </tr>\n",
              "    <tr>\n",
              "      <th>178</th>\n",
              "      <td>Serbia</td>\n",
              "      <td>50.400002</td>\n",
              "    </tr>\n",
              "    <tr>\n",
              "      <th>215</th>\n",
              "      <td>South Africa</td>\n",
              "      <td>50.099998</td>\n",
              "    </tr>\n",
              "  </tbody>\n",
              "</table>\n",
              "</div>\n",
              "      <button class=\"colab-df-convert\" onclick=\"convertToInteractive('df-9c498318-b02a-47e9-9743-4127248869ba')\"\n",
              "              title=\"Convert this dataframe to an interactive table.\"\n",
              "              style=\"display:none;\">\n",
              "        \n",
              "  <svg xmlns=\"http://www.w3.org/2000/svg\" height=\"24px\"viewBox=\"0 0 24 24\"\n",
              "       width=\"24px\">\n",
              "    <path d=\"M0 0h24v24H0V0z\" fill=\"none\"/>\n",
              "    <path d=\"M18.56 5.44l.94 2.06.94-2.06 2.06-.94-2.06-.94-.94-2.06-.94 2.06-2.06.94zm-11 1L8.5 8.5l.94-2.06 2.06-.94-2.06-.94L8.5 2.5l-.94 2.06-2.06.94zm10 10l.94 2.06.94-2.06 2.06-.94-2.06-.94-.94-2.06-.94 2.06-2.06.94z\"/><path d=\"M17.41 7.96l-1.37-1.37c-.4-.4-.92-.59-1.43-.59-.52 0-1.04.2-1.43.59L10.3 9.45l-7.72 7.72c-.78.78-.78 2.05 0 2.83L4 21.41c.39.39.9.59 1.41.59.51 0 1.02-.2 1.41-.59l7.78-7.78 2.81-2.81c.8-.78.8-2.07 0-2.86zM5.41 20L4 18.59l7.72-7.72 1.47 1.35L5.41 20z\"/>\n",
              "  </svg>\n",
              "      </button>\n",
              "      \n",
              "  <style>\n",
              "    .colab-df-container {\n",
              "      display:flex;\n",
              "      flex-wrap:wrap;\n",
              "      gap: 12px;\n",
              "    }\n",
              "\n",
              "    .colab-df-convert {\n",
              "      background-color: #E8F0FE;\n",
              "      border: none;\n",
              "      border-radius: 50%;\n",
              "      cursor: pointer;\n",
              "      display: none;\n",
              "      fill: #1967D2;\n",
              "      height: 32px;\n",
              "      padding: 0 0 0 0;\n",
              "      width: 32px;\n",
              "    }\n",
              "\n",
              "    .colab-df-convert:hover {\n",
              "      background-color: #E2EBFA;\n",
              "      box-shadow: 0px 1px 2px rgba(60, 64, 67, 0.3), 0px 1px 3px 1px rgba(60, 64, 67, 0.15);\n",
              "      fill: #174EA6;\n",
              "    }\n",
              "\n",
              "    [theme=dark] .colab-df-convert {\n",
              "      background-color: #3B4455;\n",
              "      fill: #D2E3FC;\n",
              "    }\n",
              "\n",
              "    [theme=dark] .colab-df-convert:hover {\n",
              "      background-color: #434B5C;\n",
              "      box-shadow: 0px 1px 3px 1px rgba(0, 0, 0, 0.15);\n",
              "      filter: drop-shadow(0px 1px 2px rgba(0, 0, 0, 0.3));\n",
              "      fill: #FFFFFF;\n",
              "    }\n",
              "  </style>\n",
              "\n",
              "      <script>\n",
              "        const buttonEl =\n",
              "          document.querySelector('#df-9c498318-b02a-47e9-9743-4127248869ba button.colab-df-convert');\n",
              "        buttonEl.style.display =\n",
              "          google.colab.kernel.accessAllowed ? 'block' : 'none';\n",
              "\n",
              "        async function convertToInteractive(key) {\n",
              "          const element = document.querySelector('#df-9c498318-b02a-47e9-9743-4127248869ba');\n",
              "          const dataTable =\n",
              "            await google.colab.kernel.invokeFunction('convertToInteractive',\n",
              "                                                     [key], {});\n",
              "          if (!dataTable) return;\n",
              "\n",
              "          const docLinkHtml = 'Like what you see? Visit the ' +\n",
              "            '<a target=\"_blank\" href=https://colab.research.google.com/notebooks/data_table.ipynb>data table notebook</a>'\n",
              "            + ' to learn more about interactive tables.';\n",
              "          element.innerHTML = '';\n",
              "          dataTable['output_type'] = 'display_data';\n",
              "          await google.colab.output.renderOutput(dataTable, element);\n",
              "          const docLink = document.createElement('div');\n",
              "          docLink.innerHTML = docLinkHtml;\n",
              "          element.appendChild(docLink);\n",
              "        }\n",
              "      </script>\n",
              "    </div>\n",
              "  </div>\n",
              "  "
            ]
          },
          "metadata": {},
          "execution_count": 12
        }
      ]
    },
    {
      "cell_type": "markdown",
      "source": [
        "More than 50% unemployment in 2012"
      ],
      "metadata": {
        "id": "rw8ymDhr6odq"
      }
    },
    {
      "cell_type": "code",
      "source": [
        "df_2012_morethan50= data[data.YR2 >= 50]\n",
        "df_2012_morethan50[['Country','YR2']]"
      ],
      "metadata": {
        "colab": {
          "base_uri": "https://localhost:8080/",
          "height": 237
        },
        "id": "PYvootbk6u3m",
        "outputId": "1deb6bc9-2d9c-4e74-d0ae-122aec9a3116"
      },
      "execution_count": 13,
      "outputs": [
        {
          "output_type": "execute_result",
          "data": {
            "text/plain": [
              "                    Country        YR2\n",
              "18   Bosnia and Herzegovina  61.700001\n",
              "57                    Spain  54.299999\n",
              "73                   Greece  54.700001\n",
              "129          Macedonia, FYR  53.799999\n",
              "178                  Serbia  50.599998\n",
              "215            South Africa  52.200001"
            ],
            "text/html": [
              "\n",
              "  <div id=\"df-7ac7ae11-08c9-4c22-be17-3e85393b7c13\">\n",
              "    <div class=\"colab-df-container\">\n",
              "      <div>\n",
              "<style scoped>\n",
              "    .dataframe tbody tr th:only-of-type {\n",
              "        vertical-align: middle;\n",
              "    }\n",
              "\n",
              "    .dataframe tbody tr th {\n",
              "        vertical-align: top;\n",
              "    }\n",
              "\n",
              "    .dataframe thead th {\n",
              "        text-align: right;\n",
              "    }\n",
              "</style>\n",
              "<table border=\"1\" class=\"dataframe\">\n",
              "  <thead>\n",
              "    <tr style=\"text-align: right;\">\n",
              "      <th></th>\n",
              "      <th>Country</th>\n",
              "      <th>YR2</th>\n",
              "    </tr>\n",
              "  </thead>\n",
              "  <tbody>\n",
              "    <tr>\n",
              "      <th>18</th>\n",
              "      <td>Bosnia and Herzegovina</td>\n",
              "      <td>61.700001</td>\n",
              "    </tr>\n",
              "    <tr>\n",
              "      <th>57</th>\n",
              "      <td>Spain</td>\n",
              "      <td>54.299999</td>\n",
              "    </tr>\n",
              "    <tr>\n",
              "      <th>73</th>\n",
              "      <td>Greece</td>\n",
              "      <td>54.700001</td>\n",
              "    </tr>\n",
              "    <tr>\n",
              "      <th>129</th>\n",
              "      <td>Macedonia, FYR</td>\n",
              "      <td>53.799999</td>\n",
              "    </tr>\n",
              "    <tr>\n",
              "      <th>178</th>\n",
              "      <td>Serbia</td>\n",
              "      <td>50.599998</td>\n",
              "    </tr>\n",
              "    <tr>\n",
              "      <th>215</th>\n",
              "      <td>South Africa</td>\n",
              "      <td>52.200001</td>\n",
              "    </tr>\n",
              "  </tbody>\n",
              "</table>\n",
              "</div>\n",
              "      <button class=\"colab-df-convert\" onclick=\"convertToInteractive('df-7ac7ae11-08c9-4c22-be17-3e85393b7c13')\"\n",
              "              title=\"Convert this dataframe to an interactive table.\"\n",
              "              style=\"display:none;\">\n",
              "        \n",
              "  <svg xmlns=\"http://www.w3.org/2000/svg\" height=\"24px\"viewBox=\"0 0 24 24\"\n",
              "       width=\"24px\">\n",
              "    <path d=\"M0 0h24v24H0V0z\" fill=\"none\"/>\n",
              "    <path d=\"M18.56 5.44l.94 2.06.94-2.06 2.06-.94-2.06-.94-.94-2.06-.94 2.06-2.06.94zm-11 1L8.5 8.5l.94-2.06 2.06-.94-2.06-.94L8.5 2.5l-.94 2.06-2.06.94zm10 10l.94 2.06.94-2.06 2.06-.94-2.06-.94-.94-2.06-.94 2.06-2.06.94z\"/><path d=\"M17.41 7.96l-1.37-1.37c-.4-.4-.92-.59-1.43-.59-.52 0-1.04.2-1.43.59L10.3 9.45l-7.72 7.72c-.78.78-.78 2.05 0 2.83L4 21.41c.39.39.9.59 1.41.59.51 0 1.02-.2 1.41-.59l7.78-7.78 2.81-2.81c.8-.78.8-2.07 0-2.86zM5.41 20L4 18.59l7.72-7.72 1.47 1.35L5.41 20z\"/>\n",
              "  </svg>\n",
              "      </button>\n",
              "      \n",
              "  <style>\n",
              "    .colab-df-container {\n",
              "      display:flex;\n",
              "      flex-wrap:wrap;\n",
              "      gap: 12px;\n",
              "    }\n",
              "\n",
              "    .colab-df-convert {\n",
              "      background-color: #E8F0FE;\n",
              "      border: none;\n",
              "      border-radius: 50%;\n",
              "      cursor: pointer;\n",
              "      display: none;\n",
              "      fill: #1967D2;\n",
              "      height: 32px;\n",
              "      padding: 0 0 0 0;\n",
              "      width: 32px;\n",
              "    }\n",
              "\n",
              "    .colab-df-convert:hover {\n",
              "      background-color: #E2EBFA;\n",
              "      box-shadow: 0px 1px 2px rgba(60, 64, 67, 0.3), 0px 1px 3px 1px rgba(60, 64, 67, 0.15);\n",
              "      fill: #174EA6;\n",
              "    }\n",
              "\n",
              "    [theme=dark] .colab-df-convert {\n",
              "      background-color: #3B4455;\n",
              "      fill: #D2E3FC;\n",
              "    }\n",
              "\n",
              "    [theme=dark] .colab-df-convert:hover {\n",
              "      background-color: #434B5C;\n",
              "      box-shadow: 0px 1px 3px 1px rgba(0, 0, 0, 0.15);\n",
              "      filter: drop-shadow(0px 1px 2px rgba(0, 0, 0, 0.3));\n",
              "      fill: #FFFFFF;\n",
              "    }\n",
              "  </style>\n",
              "\n",
              "      <script>\n",
              "        const buttonEl =\n",
              "          document.querySelector('#df-7ac7ae11-08c9-4c22-be17-3e85393b7c13 button.colab-df-convert');\n",
              "        buttonEl.style.display =\n",
              "          google.colab.kernel.accessAllowed ? 'block' : 'none';\n",
              "\n",
              "        async function convertToInteractive(key) {\n",
              "          const element = document.querySelector('#df-7ac7ae11-08c9-4c22-be17-3e85393b7c13');\n",
              "          const dataTable =\n",
              "            await google.colab.kernel.invokeFunction('convertToInteractive',\n",
              "                                                     [key], {});\n",
              "          if (!dataTable) return;\n",
              "\n",
              "          const docLinkHtml = 'Like what you see? Visit the ' +\n",
              "            '<a target=\"_blank\" href=https://colab.research.google.com/notebooks/data_table.ipynb>data table notebook</a>'\n",
              "            + ' to learn more about interactive tables.';\n",
              "          element.innerHTML = '';\n",
              "          dataTable['output_type'] = 'display_data';\n",
              "          await google.colab.output.renderOutput(dataTable, element);\n",
              "          const docLink = document.createElement('div');\n",
              "          docLink.innerHTML = docLinkHtml;\n",
              "          element.appendChild(docLink);\n",
              "        }\n",
              "      </script>\n",
              "    </div>\n",
              "  </div>\n",
              "  "
            ]
          },
          "metadata": {},
          "execution_count": 13
        }
      ]
    },
    {
      "cell_type": "markdown",
      "source": [
        "More than 50% unemployment in 2013"
      ],
      "metadata": {
        "id": "3gLgP6_e6poA"
      }
    },
    {
      "cell_type": "code",
      "source": [
        "df_2013_morethan50= data[data.YR3 >= 50]\n",
        "df_2013_morethan50[['Country','YR3']]"
      ],
      "metadata": {
        "colab": {
          "base_uri": "https://localhost:8080/",
          "height": 237
        },
        "id": "0YHLR7Vk67q9",
        "outputId": "ca4875f4-505e-4b83-9d11-d64714322618"
      },
      "execution_count": 14,
      "outputs": [
        {
          "output_type": "execute_result",
          "data": {
            "text/plain": [
              "                    Country        YR3\n",
              "18   Bosnia and Herzegovina  57.400002\n",
              "57                    Spain  57.099998\n",
              "73                   Greece  58.000000\n",
              "80                  Croatia  50.299999\n",
              "129          Macedonia, FYR  51.799999\n",
              "215            South Africa  51.400002"
            ],
            "text/html": [
              "\n",
              "  <div id=\"df-553bf06e-8eb7-476d-b82a-0aa562f10b01\">\n",
              "    <div class=\"colab-df-container\">\n",
              "      <div>\n",
              "<style scoped>\n",
              "    .dataframe tbody tr th:only-of-type {\n",
              "        vertical-align: middle;\n",
              "    }\n",
              "\n",
              "    .dataframe tbody tr th {\n",
              "        vertical-align: top;\n",
              "    }\n",
              "\n",
              "    .dataframe thead th {\n",
              "        text-align: right;\n",
              "    }\n",
              "</style>\n",
              "<table border=\"1\" class=\"dataframe\">\n",
              "  <thead>\n",
              "    <tr style=\"text-align: right;\">\n",
              "      <th></th>\n",
              "      <th>Country</th>\n",
              "      <th>YR3</th>\n",
              "    </tr>\n",
              "  </thead>\n",
              "  <tbody>\n",
              "    <tr>\n",
              "      <th>18</th>\n",
              "      <td>Bosnia and Herzegovina</td>\n",
              "      <td>57.400002</td>\n",
              "    </tr>\n",
              "    <tr>\n",
              "      <th>57</th>\n",
              "      <td>Spain</td>\n",
              "      <td>57.099998</td>\n",
              "    </tr>\n",
              "    <tr>\n",
              "      <th>73</th>\n",
              "      <td>Greece</td>\n",
              "      <td>58.000000</td>\n",
              "    </tr>\n",
              "    <tr>\n",
              "      <th>80</th>\n",
              "      <td>Croatia</td>\n",
              "      <td>50.299999</td>\n",
              "    </tr>\n",
              "    <tr>\n",
              "      <th>129</th>\n",
              "      <td>Macedonia, FYR</td>\n",
              "      <td>51.799999</td>\n",
              "    </tr>\n",
              "    <tr>\n",
              "      <th>215</th>\n",
              "      <td>South Africa</td>\n",
              "      <td>51.400002</td>\n",
              "    </tr>\n",
              "  </tbody>\n",
              "</table>\n",
              "</div>\n",
              "      <button class=\"colab-df-convert\" onclick=\"convertToInteractive('df-553bf06e-8eb7-476d-b82a-0aa562f10b01')\"\n",
              "              title=\"Convert this dataframe to an interactive table.\"\n",
              "              style=\"display:none;\">\n",
              "        \n",
              "  <svg xmlns=\"http://www.w3.org/2000/svg\" height=\"24px\"viewBox=\"0 0 24 24\"\n",
              "       width=\"24px\">\n",
              "    <path d=\"M0 0h24v24H0V0z\" fill=\"none\"/>\n",
              "    <path d=\"M18.56 5.44l.94 2.06.94-2.06 2.06-.94-2.06-.94-.94-2.06-.94 2.06-2.06.94zm-11 1L8.5 8.5l.94-2.06 2.06-.94-2.06-.94L8.5 2.5l-.94 2.06-2.06.94zm10 10l.94 2.06.94-2.06 2.06-.94-2.06-.94-.94-2.06-.94 2.06-2.06.94z\"/><path d=\"M17.41 7.96l-1.37-1.37c-.4-.4-.92-.59-1.43-.59-.52 0-1.04.2-1.43.59L10.3 9.45l-7.72 7.72c-.78.78-.78 2.05 0 2.83L4 21.41c.39.39.9.59 1.41.59.51 0 1.02-.2 1.41-.59l7.78-7.78 2.81-2.81c.8-.78.8-2.07 0-2.86zM5.41 20L4 18.59l7.72-7.72 1.47 1.35L5.41 20z\"/>\n",
              "  </svg>\n",
              "      </button>\n",
              "      \n",
              "  <style>\n",
              "    .colab-df-container {\n",
              "      display:flex;\n",
              "      flex-wrap:wrap;\n",
              "      gap: 12px;\n",
              "    }\n",
              "\n",
              "    .colab-df-convert {\n",
              "      background-color: #E8F0FE;\n",
              "      border: none;\n",
              "      border-radius: 50%;\n",
              "      cursor: pointer;\n",
              "      display: none;\n",
              "      fill: #1967D2;\n",
              "      height: 32px;\n",
              "      padding: 0 0 0 0;\n",
              "      width: 32px;\n",
              "    }\n",
              "\n",
              "    .colab-df-convert:hover {\n",
              "      background-color: #E2EBFA;\n",
              "      box-shadow: 0px 1px 2px rgba(60, 64, 67, 0.3), 0px 1px 3px 1px rgba(60, 64, 67, 0.15);\n",
              "      fill: #174EA6;\n",
              "    }\n",
              "\n",
              "    [theme=dark] .colab-df-convert {\n",
              "      background-color: #3B4455;\n",
              "      fill: #D2E3FC;\n",
              "    }\n",
              "\n",
              "    [theme=dark] .colab-df-convert:hover {\n",
              "      background-color: #434B5C;\n",
              "      box-shadow: 0px 1px 3px 1px rgba(0, 0, 0, 0.15);\n",
              "      filter: drop-shadow(0px 1px 2px rgba(0, 0, 0, 0.3));\n",
              "      fill: #FFFFFF;\n",
              "    }\n",
              "  </style>\n",
              "\n",
              "      <script>\n",
              "        const buttonEl =\n",
              "          document.querySelector('#df-553bf06e-8eb7-476d-b82a-0aa562f10b01 button.colab-df-convert');\n",
              "        buttonEl.style.display =\n",
              "          google.colab.kernel.accessAllowed ? 'block' : 'none';\n",
              "\n",
              "        async function convertToInteractive(key) {\n",
              "          const element = document.querySelector('#df-553bf06e-8eb7-476d-b82a-0aa562f10b01');\n",
              "          const dataTable =\n",
              "            await google.colab.kernel.invokeFunction('convertToInteractive',\n",
              "                                                     [key], {});\n",
              "          if (!dataTable) return;\n",
              "\n",
              "          const docLinkHtml = 'Like what you see? Visit the ' +\n",
              "            '<a target=\"_blank\" href=https://colab.research.google.com/notebooks/data_table.ipynb>data table notebook</a>'\n",
              "            + ' to learn more about interactive tables.';\n",
              "          element.innerHTML = '';\n",
              "          dataTable['output_type'] = 'display_data';\n",
              "          await google.colab.output.renderOutput(dataTable, element);\n",
              "          const docLink = document.createElement('div');\n",
              "          docLink.innerHTML = docLinkHtml;\n",
              "          element.appendChild(docLink);\n",
              "        }\n",
              "      </script>\n",
              "    </div>\n",
              "  </div>\n",
              "  "
            ]
          },
          "metadata": {},
          "execution_count": 14
        }
      ]
    },
    {
      "cell_type": "markdown",
      "source": [
        "More than 50% unemployment in 2014\n"
      ],
      "metadata": {
        "id": "c0EnufRg6r4x"
      }
    },
    {
      "cell_type": "code",
      "source": [
        "df_2014_morethan50= data[data.YR4 >= 50]\n",
        "df_2014_morethan50[['Country','YR4']]"
      ],
      "metadata": {
        "colab": {
          "base_uri": "https://localhost:8080/",
          "height": 206
        },
        "id": "DxIb86jf6-kB",
        "outputId": "4e640dd7-238b-4a2d-8932-5c77dcd05ac0"
      },
      "execution_count": 15,
      "outputs": [
        {
          "output_type": "execute_result",
          "data": {
            "text/plain": [
              "                    Country        YR4\n",
              "18   Bosnia and Herzegovina  57.500000\n",
              "57                    Spain  57.900002\n",
              "73                   Greece  53.900002\n",
              "129          Macedonia, FYR  50.799999\n",
              "215            South Africa  52.599998"
            ],
            "text/html": [
              "\n",
              "  <div id=\"df-8a22fba1-8c94-4456-b4e7-041cbd7c520e\">\n",
              "    <div class=\"colab-df-container\">\n",
              "      <div>\n",
              "<style scoped>\n",
              "    .dataframe tbody tr th:only-of-type {\n",
              "        vertical-align: middle;\n",
              "    }\n",
              "\n",
              "    .dataframe tbody tr th {\n",
              "        vertical-align: top;\n",
              "    }\n",
              "\n",
              "    .dataframe thead th {\n",
              "        text-align: right;\n",
              "    }\n",
              "</style>\n",
              "<table border=\"1\" class=\"dataframe\">\n",
              "  <thead>\n",
              "    <tr style=\"text-align: right;\">\n",
              "      <th></th>\n",
              "      <th>Country</th>\n",
              "      <th>YR4</th>\n",
              "    </tr>\n",
              "  </thead>\n",
              "  <tbody>\n",
              "    <tr>\n",
              "      <th>18</th>\n",
              "      <td>Bosnia and Herzegovina</td>\n",
              "      <td>57.500000</td>\n",
              "    </tr>\n",
              "    <tr>\n",
              "      <th>57</th>\n",
              "      <td>Spain</td>\n",
              "      <td>57.900002</td>\n",
              "    </tr>\n",
              "    <tr>\n",
              "      <th>73</th>\n",
              "      <td>Greece</td>\n",
              "      <td>53.900002</td>\n",
              "    </tr>\n",
              "    <tr>\n",
              "      <th>129</th>\n",
              "      <td>Macedonia, FYR</td>\n",
              "      <td>50.799999</td>\n",
              "    </tr>\n",
              "    <tr>\n",
              "      <th>215</th>\n",
              "      <td>South Africa</td>\n",
              "      <td>52.599998</td>\n",
              "    </tr>\n",
              "  </tbody>\n",
              "</table>\n",
              "</div>\n",
              "      <button class=\"colab-df-convert\" onclick=\"convertToInteractive('df-8a22fba1-8c94-4456-b4e7-041cbd7c520e')\"\n",
              "              title=\"Convert this dataframe to an interactive table.\"\n",
              "              style=\"display:none;\">\n",
              "        \n",
              "  <svg xmlns=\"http://www.w3.org/2000/svg\" height=\"24px\"viewBox=\"0 0 24 24\"\n",
              "       width=\"24px\">\n",
              "    <path d=\"M0 0h24v24H0V0z\" fill=\"none\"/>\n",
              "    <path d=\"M18.56 5.44l.94 2.06.94-2.06 2.06-.94-2.06-.94-.94-2.06-.94 2.06-2.06.94zm-11 1L8.5 8.5l.94-2.06 2.06-.94-2.06-.94L8.5 2.5l-.94 2.06-2.06.94zm10 10l.94 2.06.94-2.06 2.06-.94-2.06-.94-.94-2.06-.94 2.06-2.06.94z\"/><path d=\"M17.41 7.96l-1.37-1.37c-.4-.4-.92-.59-1.43-.59-.52 0-1.04.2-1.43.59L10.3 9.45l-7.72 7.72c-.78.78-.78 2.05 0 2.83L4 21.41c.39.39.9.59 1.41.59.51 0 1.02-.2 1.41-.59l7.78-7.78 2.81-2.81c.8-.78.8-2.07 0-2.86zM5.41 20L4 18.59l7.72-7.72 1.47 1.35L5.41 20z\"/>\n",
              "  </svg>\n",
              "      </button>\n",
              "      \n",
              "  <style>\n",
              "    .colab-df-container {\n",
              "      display:flex;\n",
              "      flex-wrap:wrap;\n",
              "      gap: 12px;\n",
              "    }\n",
              "\n",
              "    .colab-df-convert {\n",
              "      background-color: #E8F0FE;\n",
              "      border: none;\n",
              "      border-radius: 50%;\n",
              "      cursor: pointer;\n",
              "      display: none;\n",
              "      fill: #1967D2;\n",
              "      height: 32px;\n",
              "      padding: 0 0 0 0;\n",
              "      width: 32px;\n",
              "    }\n",
              "\n",
              "    .colab-df-convert:hover {\n",
              "      background-color: #E2EBFA;\n",
              "      box-shadow: 0px 1px 2px rgba(60, 64, 67, 0.3), 0px 1px 3px 1px rgba(60, 64, 67, 0.15);\n",
              "      fill: #174EA6;\n",
              "    }\n",
              "\n",
              "    [theme=dark] .colab-df-convert {\n",
              "      background-color: #3B4455;\n",
              "      fill: #D2E3FC;\n",
              "    }\n",
              "\n",
              "    [theme=dark] .colab-df-convert:hover {\n",
              "      background-color: #434B5C;\n",
              "      box-shadow: 0px 1px 3px 1px rgba(0, 0, 0, 0.15);\n",
              "      filter: drop-shadow(0px 1px 2px rgba(0, 0, 0, 0.3));\n",
              "      fill: #FFFFFF;\n",
              "    }\n",
              "  </style>\n",
              "\n",
              "      <script>\n",
              "        const buttonEl =\n",
              "          document.querySelector('#df-8a22fba1-8c94-4456-b4e7-041cbd7c520e button.colab-df-convert');\n",
              "        buttonEl.style.display =\n",
              "          google.colab.kernel.accessAllowed ? 'block' : 'none';\n",
              "\n",
              "        async function convertToInteractive(key) {\n",
              "          const element = document.querySelector('#df-8a22fba1-8c94-4456-b4e7-041cbd7c520e');\n",
              "          const dataTable =\n",
              "            await google.colab.kernel.invokeFunction('convertToInteractive',\n",
              "                                                     [key], {});\n",
              "          if (!dataTable) return;\n",
              "\n",
              "          const docLinkHtml = 'Like what you see? Visit the ' +\n",
              "            '<a target=\"_blank\" href=https://colab.research.google.com/notebooks/data_table.ipynb>data table notebook</a>'\n",
              "            + ' to learn more about interactive tables.';\n",
              "          element.innerHTML = '';\n",
              "          dataTable['output_type'] = 'display_data';\n",
              "          await google.colab.output.renderOutput(dataTable, element);\n",
              "          const docLink = document.createElement('div');\n",
              "          docLink.innerHTML = docLinkHtml;\n",
              "          element.appendChild(docLink);\n",
              "        }\n",
              "      </script>\n",
              "    </div>\n",
              "  </div>\n",
              "  "
            ]
          },
          "metadata": {},
          "execution_count": 15
        }
      ]
    },
    {
      "cell_type": "code",
      "source": [
        "data.min()"
      ],
      "metadata": {
        "colab": {
          "base_uri": "https://localhost:8080/"
        },
        "id": "ZLdQyzY2cENd",
        "outputId": "e10b739c-b3f6-47a1-97ff-414ca74ad38c"
      },
      "execution_count": 16,
      "outputs": [
        {
          "output_type": "execute_result",
          "data": {
            "text/plain": [
              "Country    Afghanistan\n",
              "Code               AFG\n",
              "YR0                0.7\n",
              "YR1                0.7\n",
              "YR2                0.5\n",
              "YR3                0.7\n",
              "YR4                0.7\n",
              "dtype: object"
            ]
          },
          "metadata": {},
          "execution_count": 16
        }
      ]
    },
    {
      "cell_type": "code",
      "source": [
        "data.max()"
      ],
      "metadata": {
        "colab": {
          "base_uri": "https://localhost:8080/"
        },
        "id": "_DOGvE_PzNRX",
        "outputId": "01731944-a90e-4485-a822-9f3cd7f11cc7"
      },
      "execution_count": 17,
      "outputs": [
        {
          "output_type": "execute_result",
          "data": {
            "text/plain": [
              "Country     Zimbabwe\n",
              "Code             ZWE\n",
              "YR0        57.200001\n",
              "YR1        57.099998\n",
              "YR2        61.700001\n",
              "YR3             58.0\n",
              "YR4        57.900002\n",
              "dtype: object"
            ]
          },
          "metadata": {},
          "execution_count": 17
        }
      ]
    },
    {
      "cell_type": "code",
      "source": [
        "data.median()"
      ],
      "metadata": {
        "colab": {
          "base_uri": "https://localhost:8080/"
        },
        "id": "D7bPWthJzRlX",
        "outputId": "767d3c85-23ec-4daf-912e-1e64c6ff448e"
      },
      "execution_count": 18,
      "outputs": [
        {
          "output_type": "stream",
          "name": "stderr",
          "text": [
            "/usr/local/lib/python3.7/dist-packages/ipykernel_launcher.py:1: FutureWarning: Dropping of nuisance columns in DataFrame reductions (with 'numeric_only=None') is deprecated; in a future version this will raise TypeError.  Select only valid columns before calling the reduction.\n",
            "  \"\"\"Entry point for launching an IPython kernel.\n"
          ]
        },
        {
          "output_type": "execute_result",
          "data": {
            "text/plain": [
              "YR0    14.900000\n",
              "YR1    14.523908\n",
              "YR2    14.400000\n",
              "YR3    14.100000\n",
              "YR4    14.124300\n",
              "dtype: float64"
            ]
          },
          "metadata": {},
          "execution_count": 18
        }
      ]
    },
    {
      "cell_type": "code",
      "source": [
        "data.std()"
      ],
      "metadata": {
        "colab": {
          "base_uri": "https://localhost:8080/"
        },
        "id": "AK5WJ59b7aWV",
        "outputId": "fb328809-4fa7-40cc-fc37-a71fdeb68e3c"
      },
      "execution_count": 19,
      "outputs": [
        {
          "output_type": "stream",
          "name": "stderr",
          "text": [
            "/usr/local/lib/python3.7/dist-packages/ipykernel_launcher.py:1: FutureWarning: Dropping of nuisance columns in DataFrame reductions (with 'numeric_only=None') is deprecated; in a future version this will raise TypeError.  Select only valid columns before calling the reduction.\n",
            "  \"\"\"Entry point for launching an IPython kernel.\n"
          ]
        },
        {
          "output_type": "execute_result",
          "data": {
            "text/plain": [
              "YR0    10.540099\n",
              "YR1    10.887558\n",
              "YR2    11.430862\n",
              "YR3    11.674366\n",
              "YR4    11.554674\n",
              "dtype: float64"
            ]
          },
          "metadata": {},
          "execution_count": 19
        }
      ]
    },
    {
      "cell_type": "code",
      "source": [
        "data.quantile([.1, .25, .5, .75], axis = 0) "
      ],
      "metadata": {
        "colab": {
          "base_uri": "https://localhost:8080/",
          "height": 175
        },
        "id": "m77FoQyA7fag",
        "outputId": "7308d381-38e3-4700-d3ba-102c4350f5a5"
      },
      "execution_count": 20,
      "outputs": [
        {
          "output_type": "execute_result",
          "data": {
            "text/plain": [
              "        YR0        YR1        YR2        YR3        YR4\n",
              "0.10   7.04   7.380000   6.720000   6.540000   6.660000\n",
              "0.25  10.60  10.410530  10.500000  10.490677  10.500000\n",
              "0.50  14.90  14.523908  14.400000  14.100000  14.124300\n",
              "0.75  23.00  23.200001  24.616293  23.435561  23.310668"
            ],
            "text/html": [
              "\n",
              "  <div id=\"df-5c32b984-8144-4afb-be9c-a66c26317131\">\n",
              "    <div class=\"colab-df-container\">\n",
              "      <div>\n",
              "<style scoped>\n",
              "    .dataframe tbody tr th:only-of-type {\n",
              "        vertical-align: middle;\n",
              "    }\n",
              "\n",
              "    .dataframe tbody tr th {\n",
              "        vertical-align: top;\n",
              "    }\n",
              "\n",
              "    .dataframe thead th {\n",
              "        text-align: right;\n",
              "    }\n",
              "</style>\n",
              "<table border=\"1\" class=\"dataframe\">\n",
              "  <thead>\n",
              "    <tr style=\"text-align: right;\">\n",
              "      <th></th>\n",
              "      <th>YR0</th>\n",
              "      <th>YR1</th>\n",
              "      <th>YR2</th>\n",
              "      <th>YR3</th>\n",
              "      <th>YR4</th>\n",
              "    </tr>\n",
              "  </thead>\n",
              "  <tbody>\n",
              "    <tr>\n",
              "      <th>0.10</th>\n",
              "      <td>7.04</td>\n",
              "      <td>7.380000</td>\n",
              "      <td>6.720000</td>\n",
              "      <td>6.540000</td>\n",
              "      <td>6.660000</td>\n",
              "    </tr>\n",
              "    <tr>\n",
              "      <th>0.25</th>\n",
              "      <td>10.60</td>\n",
              "      <td>10.410530</td>\n",
              "      <td>10.500000</td>\n",
              "      <td>10.490677</td>\n",
              "      <td>10.500000</td>\n",
              "    </tr>\n",
              "    <tr>\n",
              "      <th>0.50</th>\n",
              "      <td>14.90</td>\n",
              "      <td>14.523908</td>\n",
              "      <td>14.400000</td>\n",
              "      <td>14.100000</td>\n",
              "      <td>14.124300</td>\n",
              "    </tr>\n",
              "    <tr>\n",
              "      <th>0.75</th>\n",
              "      <td>23.00</td>\n",
              "      <td>23.200001</td>\n",
              "      <td>24.616293</td>\n",
              "      <td>23.435561</td>\n",
              "      <td>23.310668</td>\n",
              "    </tr>\n",
              "  </tbody>\n",
              "</table>\n",
              "</div>\n",
              "      <button class=\"colab-df-convert\" onclick=\"convertToInteractive('df-5c32b984-8144-4afb-be9c-a66c26317131')\"\n",
              "              title=\"Convert this dataframe to an interactive table.\"\n",
              "              style=\"display:none;\">\n",
              "        \n",
              "  <svg xmlns=\"http://www.w3.org/2000/svg\" height=\"24px\"viewBox=\"0 0 24 24\"\n",
              "       width=\"24px\">\n",
              "    <path d=\"M0 0h24v24H0V0z\" fill=\"none\"/>\n",
              "    <path d=\"M18.56 5.44l.94 2.06.94-2.06 2.06-.94-2.06-.94-.94-2.06-.94 2.06-2.06.94zm-11 1L8.5 8.5l.94-2.06 2.06-.94-2.06-.94L8.5 2.5l-.94 2.06-2.06.94zm10 10l.94 2.06.94-2.06 2.06-.94-2.06-.94-.94-2.06-.94 2.06-2.06.94z\"/><path d=\"M17.41 7.96l-1.37-1.37c-.4-.4-.92-.59-1.43-.59-.52 0-1.04.2-1.43.59L10.3 9.45l-7.72 7.72c-.78.78-.78 2.05 0 2.83L4 21.41c.39.39.9.59 1.41.59.51 0 1.02-.2 1.41-.59l7.78-7.78 2.81-2.81c.8-.78.8-2.07 0-2.86zM5.41 20L4 18.59l7.72-7.72 1.47 1.35L5.41 20z\"/>\n",
              "  </svg>\n",
              "      </button>\n",
              "      \n",
              "  <style>\n",
              "    .colab-df-container {\n",
              "      display:flex;\n",
              "      flex-wrap:wrap;\n",
              "      gap: 12px;\n",
              "    }\n",
              "\n",
              "    .colab-df-convert {\n",
              "      background-color: #E8F0FE;\n",
              "      border: none;\n",
              "      border-radius: 50%;\n",
              "      cursor: pointer;\n",
              "      display: none;\n",
              "      fill: #1967D2;\n",
              "      height: 32px;\n",
              "      padding: 0 0 0 0;\n",
              "      width: 32px;\n",
              "    }\n",
              "\n",
              "    .colab-df-convert:hover {\n",
              "      background-color: #E2EBFA;\n",
              "      box-shadow: 0px 1px 2px rgba(60, 64, 67, 0.3), 0px 1px 3px 1px rgba(60, 64, 67, 0.15);\n",
              "      fill: #174EA6;\n",
              "    }\n",
              "\n",
              "    [theme=dark] .colab-df-convert {\n",
              "      background-color: #3B4455;\n",
              "      fill: #D2E3FC;\n",
              "    }\n",
              "\n",
              "    [theme=dark] .colab-df-convert:hover {\n",
              "      background-color: #434B5C;\n",
              "      box-shadow: 0px 1px 3px 1px rgba(0, 0, 0, 0.15);\n",
              "      filter: drop-shadow(0px 1px 2px rgba(0, 0, 0, 0.3));\n",
              "      fill: #FFFFFF;\n",
              "    }\n",
              "  </style>\n",
              "\n",
              "      <script>\n",
              "        const buttonEl =\n",
              "          document.querySelector('#df-5c32b984-8144-4afb-be9c-a66c26317131 button.colab-df-convert');\n",
              "        buttonEl.style.display =\n",
              "          google.colab.kernel.accessAllowed ? 'block' : 'none';\n",
              "\n",
              "        async function convertToInteractive(key) {\n",
              "          const element = document.querySelector('#df-5c32b984-8144-4afb-be9c-a66c26317131');\n",
              "          const dataTable =\n",
              "            await google.colab.kernel.invokeFunction('convertToInteractive',\n",
              "                                                     [key], {});\n",
              "          if (!dataTable) return;\n",
              "\n",
              "          const docLinkHtml = 'Like what you see? Visit the ' +\n",
              "            '<a target=\"_blank\" href=https://colab.research.google.com/notebooks/data_table.ipynb>data table notebook</a>'\n",
              "            + ' to learn more about interactive tables.';\n",
              "          element.innerHTML = '';\n",
              "          dataTable['output_type'] = 'display_data';\n",
              "          await google.colab.output.renderOutput(dataTable, element);\n",
              "          const docLink = document.createElement('div');\n",
              "          docLink.innerHTML = docLinkHtml;\n",
              "          element.appendChild(docLink);\n",
              "        }\n",
              "      </script>\n",
              "    </div>\n",
              "  </div>\n",
              "  "
            ]
          },
          "metadata": {},
          "execution_count": 20
        }
      ]
    },
    {
      "cell_type": "code",
      "source": [
        "data.Country.value_counts()"
      ],
      "metadata": {
        "colab": {
          "base_uri": "https://localhost:8080/"
        },
        "id": "OMJOD8Ed-Roz",
        "outputId": "e1d35867-1513-4b00-a2d4-325a90434fe6"
      },
      "execution_count": 21,
      "outputs": [
        {
          "output_type": "execute_result",
          "data": {
            "text/plain": [
              "Afghanistan                               1\n",
              "OECD members                              1\n",
              "Malawi                                    1\n",
              "Malaysia                                  1\n",
              "North America                             1\n",
              "                                         ..\n",
              "High income                               1\n",
              "Hong Kong SAR, China                      1\n",
              "Honduras                                  1\n",
              "Heavily indebted poor countries (HIPC)    1\n",
              "Zimbabwe                                  1\n",
              "Name: Country, Length: 219, dtype: int64"
            ]
          },
          "metadata": {},
          "execution_count": 21
        }
      ]
    },
    {
      "cell_type": "markdown",
      "source": [
        "# Train / Test"
      ],
      "metadata": {
        "id": "6e31X4OxwKqx"
      }
    },
    {
      "cell_type": "markdown",
      "source": [
        "Splitting the data into the train and test sets 80/20"
      ],
      "metadata": {
        "id": "NK71bqkeGFhB"
      }
    },
    {
      "cell_type": "code",
      "source": [
        "from sklearn.model_selection import train_test_split\n",
        "\n",
        "X_train, X_test, Y_train, Y_test = train_test_split(data[data.columns[3:]],  data[data.columns[3:]], test_size=0.2)"
      ],
      "metadata": {
        "id": "oxJWLt76GFNc"
      },
      "execution_count": 22,
      "outputs": []
    },
    {
      "cell_type": "code",
      "source": [
        "X_train"
      ],
      "metadata": {
        "colab": {
          "base_uri": "https://localhost:8080/",
          "height": 424
        },
        "id": "fUq8ky2cGEdD",
        "outputId": "ad82f5f5-640c-4049-8ce2-f0166a252021"
      },
      "execution_count": 23,
      "outputs": [
        {
          "output_type": "execute_result",
          "data": {
            "text/plain": [
              "           YR1        YR2        YR3        YR4\n",
              "186  42.200001  42.000000  42.000000  42.599998\n",
              "25    8.400000   6.400000  10.400000  10.000000\n",
              "75   22.900000  23.100000  23.400000  23.799999\n",
              "95   29.100000  35.200001  39.700001  44.099998\n",
              "201  42.700001  32.799999  31.299999  31.799999\n",
              "..         ...        ...        ...        ...\n",
              "58   22.600000  21.000000  18.700001  17.000000\n",
              "88   11.619388  11.522570  11.329307  11.404908\n",
              "167  15.300000  15.000000  14.100000  12.900000\n",
              "166  23.900000  22.799999  23.799999  25.100000\n",
              "26   33.200001  33.299999  32.799999  33.900002\n",
              "\n",
              "[175 rows x 4 columns]"
            ],
            "text/html": [
              "\n",
              "  <div id=\"df-301da8bd-a28e-4085-b40e-eec622f2e94e\">\n",
              "    <div class=\"colab-df-container\">\n",
              "      <div>\n",
              "<style scoped>\n",
              "    .dataframe tbody tr th:only-of-type {\n",
              "        vertical-align: middle;\n",
              "    }\n",
              "\n",
              "    .dataframe tbody tr th {\n",
              "        vertical-align: top;\n",
              "    }\n",
              "\n",
              "    .dataframe thead th {\n",
              "        text-align: right;\n",
              "    }\n",
              "</style>\n",
              "<table border=\"1\" class=\"dataframe\">\n",
              "  <thead>\n",
              "    <tr style=\"text-align: right;\">\n",
              "      <th></th>\n",
              "      <th>YR1</th>\n",
              "      <th>YR2</th>\n",
              "      <th>YR3</th>\n",
              "      <th>YR4</th>\n",
              "    </tr>\n",
              "  </thead>\n",
              "  <tbody>\n",
              "    <tr>\n",
              "      <th>186</th>\n",
              "      <td>42.200001</td>\n",
              "      <td>42.000000</td>\n",
              "      <td>42.000000</td>\n",
              "      <td>42.599998</td>\n",
              "    </tr>\n",
              "    <tr>\n",
              "      <th>25</th>\n",
              "      <td>8.400000</td>\n",
              "      <td>6.400000</td>\n",
              "      <td>10.400000</td>\n",
              "      <td>10.000000</td>\n",
              "    </tr>\n",
              "    <tr>\n",
              "      <th>75</th>\n",
              "      <td>22.900000</td>\n",
              "      <td>23.100000</td>\n",
              "      <td>23.400000</td>\n",
              "      <td>23.799999</td>\n",
              "    </tr>\n",
              "    <tr>\n",
              "      <th>95</th>\n",
              "      <td>29.100000</td>\n",
              "      <td>35.200001</td>\n",
              "      <td>39.700001</td>\n",
              "      <td>44.099998</td>\n",
              "    </tr>\n",
              "    <tr>\n",
              "      <th>201</th>\n",
              "      <td>42.700001</td>\n",
              "      <td>32.799999</td>\n",
              "      <td>31.299999</td>\n",
              "      <td>31.799999</td>\n",
              "    </tr>\n",
              "    <tr>\n",
              "      <th>...</th>\n",
              "      <td>...</td>\n",
              "      <td>...</td>\n",
              "      <td>...</td>\n",
              "      <td>...</td>\n",
              "    </tr>\n",
              "    <tr>\n",
              "      <th>58</th>\n",
              "      <td>22.600000</td>\n",
              "      <td>21.000000</td>\n",
              "      <td>18.700001</td>\n",
              "      <td>17.000000</td>\n",
              "    </tr>\n",
              "    <tr>\n",
              "      <th>88</th>\n",
              "      <td>11.619388</td>\n",
              "      <td>11.522570</td>\n",
              "      <td>11.329307</td>\n",
              "      <td>11.404908</td>\n",
              "    </tr>\n",
              "    <tr>\n",
              "      <th>167</th>\n",
              "      <td>15.300000</td>\n",
              "      <td>15.000000</td>\n",
              "      <td>14.100000</td>\n",
              "      <td>12.900000</td>\n",
              "    </tr>\n",
              "    <tr>\n",
              "      <th>166</th>\n",
              "      <td>23.900000</td>\n",
              "      <td>22.799999</td>\n",
              "      <td>23.799999</td>\n",
              "      <td>25.100000</td>\n",
              "    </tr>\n",
              "    <tr>\n",
              "      <th>26</th>\n",
              "      <td>33.200001</td>\n",
              "      <td>33.299999</td>\n",
              "      <td>32.799999</td>\n",
              "      <td>33.900002</td>\n",
              "    </tr>\n",
              "  </tbody>\n",
              "</table>\n",
              "<p>175 rows × 4 columns</p>\n",
              "</div>\n",
              "      <button class=\"colab-df-convert\" onclick=\"convertToInteractive('df-301da8bd-a28e-4085-b40e-eec622f2e94e')\"\n",
              "              title=\"Convert this dataframe to an interactive table.\"\n",
              "              style=\"display:none;\">\n",
              "        \n",
              "  <svg xmlns=\"http://www.w3.org/2000/svg\" height=\"24px\"viewBox=\"0 0 24 24\"\n",
              "       width=\"24px\">\n",
              "    <path d=\"M0 0h24v24H0V0z\" fill=\"none\"/>\n",
              "    <path d=\"M18.56 5.44l.94 2.06.94-2.06 2.06-.94-2.06-.94-.94-2.06-.94 2.06-2.06.94zm-11 1L8.5 8.5l.94-2.06 2.06-.94-2.06-.94L8.5 2.5l-.94 2.06-2.06.94zm10 10l.94 2.06.94-2.06 2.06-.94-2.06-.94-.94-2.06-.94 2.06-2.06.94z\"/><path d=\"M17.41 7.96l-1.37-1.37c-.4-.4-.92-.59-1.43-.59-.52 0-1.04.2-1.43.59L10.3 9.45l-7.72 7.72c-.78.78-.78 2.05 0 2.83L4 21.41c.39.39.9.59 1.41.59.51 0 1.02-.2 1.41-.59l7.78-7.78 2.81-2.81c.8-.78.8-2.07 0-2.86zM5.41 20L4 18.59l7.72-7.72 1.47 1.35L5.41 20z\"/>\n",
              "  </svg>\n",
              "      </button>\n",
              "      \n",
              "  <style>\n",
              "    .colab-df-container {\n",
              "      display:flex;\n",
              "      flex-wrap:wrap;\n",
              "      gap: 12px;\n",
              "    }\n",
              "\n",
              "    .colab-df-convert {\n",
              "      background-color: #E8F0FE;\n",
              "      border: none;\n",
              "      border-radius: 50%;\n",
              "      cursor: pointer;\n",
              "      display: none;\n",
              "      fill: #1967D2;\n",
              "      height: 32px;\n",
              "      padding: 0 0 0 0;\n",
              "      width: 32px;\n",
              "    }\n",
              "\n",
              "    .colab-df-convert:hover {\n",
              "      background-color: #E2EBFA;\n",
              "      box-shadow: 0px 1px 2px rgba(60, 64, 67, 0.3), 0px 1px 3px 1px rgba(60, 64, 67, 0.15);\n",
              "      fill: #174EA6;\n",
              "    }\n",
              "\n",
              "    [theme=dark] .colab-df-convert {\n",
              "      background-color: #3B4455;\n",
              "      fill: #D2E3FC;\n",
              "    }\n",
              "\n",
              "    [theme=dark] .colab-df-convert:hover {\n",
              "      background-color: #434B5C;\n",
              "      box-shadow: 0px 1px 3px 1px rgba(0, 0, 0, 0.15);\n",
              "      filter: drop-shadow(0px 1px 2px rgba(0, 0, 0, 0.3));\n",
              "      fill: #FFFFFF;\n",
              "    }\n",
              "  </style>\n",
              "\n",
              "      <script>\n",
              "        const buttonEl =\n",
              "          document.querySelector('#df-301da8bd-a28e-4085-b40e-eec622f2e94e button.colab-df-convert');\n",
              "        buttonEl.style.display =\n",
              "          google.colab.kernel.accessAllowed ? 'block' : 'none';\n",
              "\n",
              "        async function convertToInteractive(key) {\n",
              "          const element = document.querySelector('#df-301da8bd-a28e-4085-b40e-eec622f2e94e');\n",
              "          const dataTable =\n",
              "            await google.colab.kernel.invokeFunction('convertToInteractive',\n",
              "                                                     [key], {});\n",
              "          if (!dataTable) return;\n",
              "\n",
              "          const docLinkHtml = 'Like what you see? Visit the ' +\n",
              "            '<a target=\"_blank\" href=https://colab.research.google.com/notebooks/data_table.ipynb>data table notebook</a>'\n",
              "            + ' to learn more about interactive tables.';\n",
              "          element.innerHTML = '';\n",
              "          dataTable['output_type'] = 'display_data';\n",
              "          await google.colab.output.renderOutput(dataTable, element);\n",
              "          const docLink = document.createElement('div');\n",
              "          docLink.innerHTML = docLinkHtml;\n",
              "          element.appendChild(docLink);\n",
              "        }\n",
              "      </script>\n",
              "    </div>\n",
              "  </div>\n",
              "  "
            ]
          },
          "metadata": {},
          "execution_count": 23
        }
      ]
    },
    {
      "cell_type": "markdown",
      "source": [
        "Standardization with the Standardscaler function(i also ignore the first columns since they arent numerical values in this scenario) \n",
        "μ = 0 and σ = 1"
      ],
      "metadata": {
        "id": "DyvcnKzVNMm1"
      }
    },
    {
      "cell_type": "code",
      "source": [
        "from sklearn.preprocessing import StandardScaler\n",
        "sc = StandardScaler()\n",
        "sc.fit(X_train)\n",
        "X_train = sc.transform(X_train)\n",
        "X_test = sc.transform(X_test)"
      ],
      "metadata": {
        "id": "tfGuPZQK-VO5"
      },
      "execution_count": 24,
      "outputs": []
    },
    {
      "cell_type": "code",
      "source": [
        "from sklearn.linear_model import LinearRegression\n",
        "\n",
        "model = LinearRegression().fit(X_train, Y_train)"
      ],
      "metadata": {
        "id": "ptLRanpkGGHB"
      },
      "execution_count": 25,
      "outputs": []
    },
    {
      "cell_type": "markdown",
      "source": [
        "#R2\n",
        "R-Squared is a statistical measure of fit that indicates how much variation of a dependent variable is explained by the independent variable(s) in a regression model."
      ],
      "metadata": {
        "id": "HDt3JeErQZxn"
      }
    },
    {
      "cell_type": "code",
      "source": [
        "r2 = model.score(X_train, Y_train)\n",
        "print('R2 score', r2)"
      ],
      "metadata": {
        "colab": {
          "base_uri": "https://localhost:8080/"
        },
        "id": "OxfXBZ4qQhYr",
        "outputId": "ea345bbe-2d24-449c-f714-1dcbc5779e79"
      },
      "execution_count": 26,
      "outputs": [
        {
          "output_type": "stream",
          "name": "stdout",
          "text": [
            "R2 score 1.0\n"
          ]
        }
      ]
    },
    {
      "cell_type": "markdown",
      "source": [
        "the larger the R2, the better the regression model fits your observations\n",
        "-This is 100% model"
      ],
      "metadata": {
        "id": "xAe1dBpARPsy"
      }
    },
    {
      "cell_type": "markdown",
      "source": [
        "#Prediction\n",
        "predict() function enables us to predict the data values based on trained model"
      ],
      "metadata": {
        "id": "Tw_Z5CT4Ryq1"
      }
    },
    {
      "cell_type": "code",
      "source": [
        "pred = model.predict(X_train)\n",
        "pred"
      ],
      "metadata": {
        "colab": {
          "base_uri": "https://localhost:8080/"
        },
        "id": "kam8ijWjRPZU",
        "outputId": "a9b8495f-126e-4c8a-f092-1485dffaeac2"
      },
      "execution_count": 27,
      "outputs": [
        {
          "output_type": "execute_result",
          "data": {
            "text/plain": [
              "array([[42.20000076, 42.        , 42.        , 42.59999847],\n",
              "       [ 8.39999962,  6.4000001 , 10.39999962, 10.        ],\n",
              "       [22.89999962, 23.10000038, 23.39999962, 23.79999924],\n",
              "       [29.10000038, 35.20000076, 39.70000076, 44.09999847],\n",
              "       [42.70000076, 32.79999924, 31.29999924, 31.79999924],\n",
              "       [ 1.70000005,  1.60000002,  1.20000005,  1.29999995],\n",
              "       [22.79359585, 25.03258577, 25.71726864, 25.11613919],\n",
              "       [25.48077081, 26.32247092, 26.77545896, 24.32673518],\n",
              "       [11.39999962, 10.5       , 10.60000038, 10.89999962],\n",
              "       [ 5.30000019,  4.5999999 ,  4.0999999 ,  3.5       ],\n",
              "       [13.19784356, 13.31278214, 13.35477228, 13.53112602],\n",
              "       [34.09999847, 37.29999924, 38.70000076, 42.70000076],\n",
              "       [ 9.39999962,  7.4000001 ,  1.89999998,  3.29999995],\n",
              "       [23.85882696, 25.97757355, 26.47746032, 24.59677537],\n",
              "       [10.19999981, 10.39999962, 10.5       ,  9.30000019],\n",
              "       [ 8.89999962,  9.30000019,  9.39999962,  9.5       ],\n",
              "       [24.29999924, 26.        , 22.39999962, 22.        ],\n",
              "       [10.69999981, 10.69999981, 10.60000038, 10.5       ],\n",
              "       [10.60000038, 11.        , 11.        , 11.10000038],\n",
              "       [30.        , 37.59999847, 37.79999924, 36.79999924],\n",
              "       [ 5.30000019,  5.19999981,  5.19999981,  5.        ],\n",
              "       [13.11082944, 13.228547  , 13.26902482, 13.46700801],\n",
              "       [ 8.30000019,  8.30000019,  8.89999962,  9.39999962],\n",
              "       [18.18417641, 18.65356888, 18.58911295, 17.83189196],\n",
              "       [18.10000038, 18.29999924, 18.29999924, 18.79999924],\n",
              "       [ 8.39999962,  8.10000038,  7.80000019,  7.5999999 ],\n",
              "       [19.        , 17.39999962, 15.5       , 17.89999962],\n",
              "       [17.89999962, 17.10000038, 16.5       , 17.70000076],\n",
              "       [ 9.99508696, 10.27067436, 10.18971664, 10.25114911],\n",
              "       [37.20000076, 41.29999924, 40.5       , 39.5       ],\n",
              "       [20.89999962, 19.70000076, 21.10000038, 20.79999924],\n",
              "       [18.79999924, 18.39999962, 19.70000076, 21.29999924],\n",
              "       [10.80000019, 10.69999981, 12.        , 11.89999962],\n",
              "       [26.60000038, 26.60000038, 25.5       , 25.10000038],\n",
              "       [17.39999962, 17.10000038, 14.80000019, 17.10000038],\n",
              "       [16.39999962, 15.39999962, 15.69999981, 15.5       ],\n",
              "       [11.63183499, 11.48885495, 11.05718514, 11.12491988],\n",
              "       [ 9.5       ,  8.5       ,  8.69999981,  9.19999981],\n",
              "       [14.30000019, 14.10000038, 13.        , 12.39999962],\n",
              "       [11.19999981, 12.39999962,  9.10000038, 10.60000038],\n",
              "       [14.5       , 14.30000019, 13.39999962, 13.60000038],\n",
              "       [10.30000019, 10.69999981, 10.60000038, 10.60000038],\n",
              "       [13.89999962, 14.        , 13.89999962, 13.80000019],\n",
              "       [ 7.5       ,  9.5       , 11.        , 11.10000038],\n",
              "       [20.60000038, 20.60000038, 20.5       , 20.29999924],\n",
              "       [10.5       , 10.5       , 10.60000038, 10.60000038],\n",
              "       [11.60000038, 10.60000038,  7.69999981,  7.5999999 ],\n",
              "       [25.20000076, 28.20000076, 29.70000076, 25.89999962],\n",
              "       [32.        , 26.20000076, 21.89999962, 21.5       ],\n",
              "       [21.60000038, 21.10000038, 20.5       , 19.39999962],\n",
              "       [11.39999962, 11.69999981, 12.19999981, 13.10000038],\n",
              "       [ 5.30000019,  5.4000001 ,  5.5       ,  5.4000001 ],\n",
              "       [33.70000076, 33.70000076, 32.40000153, 30.10000038],\n",
              "       [13.71467257, 13.87429289, 13.90383191, 13.9871842 ],\n",
              "       [11.10000038, 10.69999981, 10.69999981, 10.60000038],\n",
              "       [16.89999962, 16.60000038, 18.39999962, 19.10000038],\n",
              "       [55.40000153, 53.79999924, 51.79999924, 50.79999924],\n",
              "       [50.09999847, 52.20000076, 51.40000153, 52.59999847],\n",
              "       [ 6.4000001 ,  6.4000001 ,  6.30000019,  6.69999981],\n",
              "       [36.59999847, 44.09999847, 50.29999924, 45.90000153],\n",
              "       [10.69999981, 10.89999962,  9.80000019, 10.80000019],\n",
              "       [11.89999962, 10.        , 10.10000038, 11.        ],\n",
              "       [46.70000076, 46.5       , 46.59999847, 46.59999847],\n",
              "       [ 6.69999981,  6.80000019,  6.9000001 ,  7.0999999 ],\n",
              "       [14.        , 14.30000019, 14.10000038, 13.60000038],\n",
              "       [11.60000038, 12.30000019, 10.69999981, 11.        ],\n",
              "       [25.5       , 26.60000038, 26.        , 26.89999962],\n",
              "       [30.10000038, 28.        , 28.70000076, 29.5       ],\n",
              "       [10.58613711, 10.75469503, 11.2969454 , 11.5704049 ],\n",
              "       [20.10000038, 20.20000076, 19.60000038, 18.60000038],\n",
              "       [ 9.69999981,  8.89999962,  9.19999981, 10.39999962],\n",
              "       [12.30000019, 12.30000019, 12.19999981, 11.89999962],\n",
              "       [29.10000038, 30.39999962, 26.70000076, 25.79999924],\n",
              "       [38.70000076, 35.        , 32.5       , 35.09999847],\n",
              "       [21.39999962, 20.29999924, 21.79999924, 21.79999924],\n",
              "       [10.60000038, 10.69999981, 11.        , 12.60000038],\n",
              "       [10.89999962, 10.60000038, 10.69999981, 10.5       ],\n",
              "       [12.        , 11.89999962, 11.19999981, 11.69999981],\n",
              "       [17.89999962, 18.5       , 18.10000038, 19.10000038],\n",
              "       [ 2.9000001 ,  3.0999999 ,  3.20000005,  3.9000001 ],\n",
              "       [25.5       , 26.39999962, 27.20000076, 24.        ],\n",
              "       [15.19999981, 14.39999962, 14.69999981, 15.19999981],\n",
              "       [ 9.19999981,  9.        ,  9.        ,  9.60000038],\n",
              "       [ 6.5999999 ,  6.        ,  5.30000019,  5.5       ],\n",
              "       [13.12808185, 13.23102283, 13.32071141, 13.38482462],\n",
              "       [12.39999962, 12.30000019, 13.        , 13.        ],\n",
              "       [ 8.10000038,  8.10000038,  8.30000019,  8.60000038],\n",
              "       [10.42106075, 10.40527048, 10.21640793, 10.22931929],\n",
              "       [ 9.        ,  9.60000038,  9.60000038,  9.30000019],\n",
              "       [23.53717391, 22.87488947, 23.21186902, 23.32133744],\n",
              "       [16.70000076, 17.29999924, 17.        , 17.10000038],\n",
              "       [ 7.4000001 ,  5.5999999 ,  5.69999981,  5.4000001 ],\n",
              "       [ 0.69999999,  0.69999999,  0.69999999,  0.69999999],\n",
              "       [ 8.19999981,  8.69999981,  9.10000038,  9.19999981],\n",
              "       [15.10000038, 13.10000038, 13.5       ,  8.5       ],\n",
              "       [ 5.30000019,  5.        ,  6.30000019,  6.30000019],\n",
              "       [23.20000076, 20.60000038, 16.89999962, 18.89999962],\n",
              "       [36.59999847, 33.79999924, 35.70000076, 34.09999847],\n",
              "       [10.80000019, 10.80000019, 10.80000019, 10.69999981],\n",
              "       [40.70000076, 40.70000076, 40.70000076, 40.70000076],\n",
              "       [31.        , 28.29999924, 23.10000038, 19.29999924],\n",
              "       [28.71213163, 29.65067464, 29.93350003, 30.40355258],\n",
              "       [10.89999962, 11.        , 11.30000019, 11.10000038],\n",
              "       [34.5       , 34.59999847, 35.70000076, 35.5       ],\n",
              "       [30.        , 30.20000076, 30.20000076, 29.89999962],\n",
              "       [17.47630499, 18.01824685, 17.89016227, 17.19878334],\n",
              "       [32.40000153, 32.40000153, 32.09999847, 34.59999847],\n",
              "       [17.89999962, 19.60000038, 18.89999962, 16.70000076],\n",
              "       [ 0.69999999,  0.5       ,  0.69999999,  0.89999998],\n",
              "       [13.42221763, 13.56830105, 13.65192373, 13.89020455],\n",
              "       [ 9.39999962,  9.30000019,  9.30000019,  9.5       ],\n",
              "       [ 7.5       ,  7.9000001 ,  6.5999999 ,  7.0999999 ],\n",
              "       [19.        , 18.79999924, 18.60000038, 18.79999924],\n",
              "       [14.10000038, 14.30000019, 13.80000019, 13.39999962],\n",
              "       [ 8.30000019,  7.0999999 ,  6.9000001 ,  6.9000001 ],\n",
              "       [16.79999924, 18.5       , 19.20000076, 16.        ],\n",
              "       [17.        , 18.79999924, 19.89999962, 19.20000076],\n",
              "       [ 6.19999981,  6.19999981,  5.5999999 ,  5.19999981],\n",
              "       [ 5.0999999 ,  5.        ,  4.9000001 ,  4.9000001 ],\n",
              "       [22.5       , 26.29999924, 20.39999962, 20.        ],\n",
              "       [14.23968925, 13.51863412, 13.21254539, 13.86430965],\n",
              "       [29.5       , 32.90000153, 35.70000076, 30.5       ],\n",
              "       [30.        , 30.89999962, 31.89999962, 31.39999962],\n",
              "       [14.43314856, 13.69538622, 13.39231665, 14.03033962],\n",
              "       [10.24766841, 10.17111324, 10.48135345, 10.61902783],\n",
              "       [37.79999924, 36.        , 30.5       , 33.        ],\n",
              "       [ 8.69999981,  8.60000038,  9.10000038,  8.39999962],\n",
              "       [50.40000153, 50.59999847, 49.70000076, 49.5       ],\n",
              "       [ 6.30000019,  6.        ,  6.        ,  5.80000019],\n",
              "       [18.89999962, 17.79999924, 19.60000038, 19.20000076],\n",
              "       [11.12213538, 11.03727109, 11.02792824, 11.1285157 ],\n",
              "       [16.68354951, 16.61488938, 16.60343442, 16.66226142],\n",
              "       [27.20000076, 30.39999962, 30.79999924, 30.10000038],\n",
              "       [ 7.5999999 ,  8.5       ,  8.80000019,  8.69999981],\n",
              "       [10.        , 10.19999981, 10.60000038,  6.69999981],\n",
              "       [14.52390793, 14.50369884, 14.05060419, 14.12429974],\n",
              "       [21.        , 20.70000076, 20.60000038, 20.20000076],\n",
              "       [33.90000153, 37.90000153, 41.70000076, 42.        ],\n",
              "       [23.20000076, 24.20000076, 23.79999924, 22.79999924],\n",
              "       [16.10000038, 16.39999962, 16.60000038, 16.39999962],\n",
              "       [14.60000038, 13.39999962, 11.10000038, 10.89999962],\n",
              "       [26.        , 27.89999962, 27.        , 21.        ],\n",
              "       [ 5.5       ,  5.5       ,  5.0999999 ,  5.19999981],\n",
              "       [18.3308471 , 17.84104195, 17.29501611, 17.24928397],\n",
              "       [13.77960544, 13.99281199, 14.08622741, 14.58100923],\n",
              "       [33.09999847, 33.90000153, 33.5       , 31.10000038],\n",
              "       [29.57835834, 30.80394975, 31.10587728, 31.52178768],\n",
              "       [12.5       , 11.80000019, 12.        , 12.        ],\n",
              "       [23.26828156, 23.13758557, 23.47112157, 23.19441722],\n",
              "       [15.89999962, 16.60000038, 15.30000019, 14.69999981],\n",
              "       [ 9.99508696, 10.27067436, 10.18971664, 10.25114911],\n",
              "       [57.09999847, 61.70000076, 57.40000153, 57.5       ],\n",
              "       [19.        , 17.29999924, 16.        , 16.89999962],\n",
              "       [ 5.        ,  5.        ,  4.5999999 ,  4.5999999 ],\n",
              "       [20.79999924, 20.79999924, 20.20000076, 20.70000076],\n",
              "       [10.80000019, 10.80000019, 10.80000019, 10.69999981],\n",
              "       [19.00293831, 18.67570559, 18.28437104, 17.97349256],\n",
              "       [ 7.30000019,  7.19999981,  7.19999981,  7.0999999 ],\n",
              "       [ 3.20000005,  3.29999995,  3.29999995,  3.4000001 ],\n",
              "       [21.70000076, 23.70000076, 21.89999962, 21.20000076],\n",
              "       [10.80000019, 10.69999981, 10.69999981, 10.69999981],\n",
              "       [17.60000038, 16.20000076, 16.10000038, 16.39999962],\n",
              "       [10.39999962, 10.5       , 10.5       , 10.5       ],\n",
              "       [13.99020624, 14.20912612, 14.30328981, 14.54452811],\n",
              "       [40.09999847, 34.20000076, 40.59999847, 38.70000076],\n",
              "       [28.11751567, 29.11321202, 29.33530604, 29.70456912],\n",
              "       [ 5.80000019,  5.        ,  3.5       ,  2.9000001 ],\n",
              "       [17.39999962, 16.5       , 15.80000019, 14.        ],\n",
              "       [10.60000038, 10.60000038, 10.80000019, 10.89999962],\n",
              "       [21.89999962, 23.79999924, 23.70000076, 23.89999962],\n",
              "       [22.60000038, 21.        , 18.70000076, 17.        ],\n",
              "       [11.61938774, 11.52256997, 11.32930665, 11.40490842],\n",
              "       [15.30000019, 15.        , 14.10000038, 12.89999962],\n",
              "       [23.89999962, 22.79999924, 23.79999924, 25.10000038],\n",
              "       [33.20000076, 33.29999924, 32.79999924, 33.90000153]])"
            ]
          },
          "metadata": {},
          "execution_count": 27
        }
      ]
    },
    {
      "cell_type": "code",
      "source": [
        "X_train.shape"
      ],
      "metadata": {
        "colab": {
          "base_uri": "https://localhost:8080/"
        },
        "id": "k-VcUh-jVWhY",
        "outputId": "3f9fa132-12a7-4235-f748-90f4424195d8"
      },
      "execution_count": 28,
      "outputs": [
        {
          "output_type": "execute_result",
          "data": {
            "text/plain": [
              "(175, 4)"
            ]
          },
          "metadata": {},
          "execution_count": 28
        }
      ]
    },
    {
      "cell_type": "code",
      "source": [
        "X_test.shape"
      ],
      "metadata": {
        "colab": {
          "base_uri": "https://localhost:8080/"
        },
        "id": "m6aYbg1dVbKC",
        "outputId": "6fd5a83a-a41b-4196-b63f-94016fab2bf2"
      },
      "execution_count": 29,
      "outputs": [
        {
          "output_type": "execute_result",
          "data": {
            "text/plain": [
              "(44, 4)"
            ]
          },
          "metadata": {},
          "execution_count": 29
        }
      ]
    },
    {
      "cell_type": "markdown",
      "source": [
        "# XGboost\n",
        " XGBoost stands for eXtreme Gradient Boosting, which is a boosting algorithm based on gradient boosted decision trees algorithm."
      ],
      "metadata": {
        "id": "VUU3323EkM22"
      }
    },
    {
      "cell_type": "code",
      "source": [
        "from xgboost import XGBClassifier\n"
      ],
      "metadata": {
        "id": "e7aTeFeUVdHm"
      },
      "execution_count": 30,
      "outputs": []
    },
    {
      "cell_type": "markdown",
      "source": [
        "xgboost.XGBClassifier is a scikit-learn API compatible class for classification"
      ],
      "metadata": {
        "id": "eTdixJhWtc9O"
      }
    },
    {
      "cell_type": "code",
      "source": [
        "#inicialize XGBoost\n",
        "model = XGBClassifier(max_depth=50, min_child_weight=1,  n_estimators=200,n_jobs=-1 , verbose=1,learning_rate=0.16)\n",
        "\n",
        "# Add silent=True to avoid printing out updates with each cycle\n",
        "model.fit(X_train, Y_train.YR1)\n",
        "\n",
        "#make prediction\n",
        "y_pred = model.predict(X_test)"
      ],
      "metadata": {
        "id": "vOQWf6CRkf9l"
      },
      "execution_count": 36,
      "outputs": []
    },
    {
      "cell_type": "code",
      "source": [
        "Y_train\n",
        "Y_train.YR1"
      ],
      "metadata": {
        "colab": {
          "base_uri": "https://localhost:8080/"
        },
        "id": "ytlP_LW4mPlb",
        "outputId": "2669f624-9b67-4301-d700-ba7ee7063380"
      },
      "execution_count": 37,
      "outputs": [
        {
          "output_type": "execute_result",
          "data": {
            "text/plain": [
              "186    42.200001\n",
              "25      8.400000\n",
              "75     22.900000\n",
              "95     29.100000\n",
              "201    42.700001\n",
              "         ...    \n",
              "58     22.600000\n",
              "88     11.619388\n",
              "167    15.300000\n",
              "166    23.900000\n",
              "26     33.200001\n",
              "Name: YR1, Length: 175, dtype: float64"
            ]
          },
          "metadata": {},
          "execution_count": 37
        }
      ]
    },
    {
      "cell_type": "code",
      "source": [
        "from sklearn import metrics\n",
        "\n",
        "print(y_pred)"
      ],
      "metadata": {
        "colab": {
          "base_uri": "https://localhost:8080/"
        },
        "id": "Jh2Hrvnrn-5P",
        "outputId": "83e6a762-9f74-427c-db7c-b9d69c317e1d"
      },
      "execution_count": 39,
      "outputs": [
        {
          "output_type": "stream",
          "name": "stdout",
          "text": [
            "[16.70000076 30.          9.39999962 14.52390793 20.10000038 10.60000038\n",
            " 30.          8.30000019  8.30000019 17.89999962 21.89999962 36.59999847\n",
            "  5.30000019 36.59999847 14.52390793  0.69999999 36.59999847  9.99508696\n",
            " 17.39999962 14.43314856 16.10000038 25.5        10.69999981 13.99020624\n",
            " 17.39999962 11.39999962 21.39999962 25.5         0.69999999 10.30000019\n",
            " 25.5        13.77960544 17.          8.30000019  9.99508696 20.60000038\n",
            " 17.39999962 10.69999981 23.53717391 11.39999962 22.79359585 13.12808185\n",
            "  9.69999981 25.5       ]\n"
          ]
        }
      ]
    },
    {
      "cell_type": "code",
      "source": [
        "from sklearn.impute import SimpleImputer\n",
        "\n",
        "import numpy as np\n",
        "imputer = SimpleImputer(missing_values=np.nan, strategy='mean')\n",
        "\n",
        "X_train = imputer.fit_transform(X_train)\n",
        "X_test = imputer.transform(X_test)"
      ],
      "metadata": {
        "id": "SF4gn4ZaqG7U"
      },
      "execution_count": 41,
      "outputs": []
    },
    {
      "cell_type": "markdown",
      "source": [
        "XGBoost is an efficient implementation of gradient boosting that can be used for regression predictive modeling. "
      ],
      "metadata": {
        "id": "vJbsZW7WsH4q"
      }
    },
    {
      "cell_type": "code",
      "source": [
        "from xgboost import XGBRegressor\n",
        "\n",
        "model = XGBRegressor(objective ='reg:linear',\n",
        "    colsample_bytree = 0.3, learning_rate = 0.1,\n",
        "    max_depth = 5, alpha = 2, n_estimators = 10)\n",
        "\n",
        "# Add silent=True to avoid printing out updates with each cycle\n",
        "model.fit(X_train, Y_train.YR1)\n",
        "\n",
        "# make predictions\n",
        "y_pred = model.predict(X_test)"
      ],
      "metadata": {
        "colab": {
          "base_uri": "https://localhost:8080/"
        },
        "id": "Zl_0DiBZqbeJ",
        "outputId": "3f20c880-9a43-416b-def4-ef155654aefe"
      },
      "execution_count": 45,
      "outputs": [
        {
          "output_type": "stream",
          "name": "stdout",
          "text": [
            "[22:23:23] WARNING: /workspace/src/objective/regression_obj.cu:152: reg:linear is now deprecated in favor of reg:squarederror.\n"
          ]
        }
      ]
    },
    {
      "cell_type": "markdown",
      "source": [
        "#Vizualization"
      ],
      "metadata": {
        "id": "v3ZWBrR7QKq8"
      }
    },
    {
      "cell_type": "code",
      "source": [
        "import matplotlib.pyplot as plt"
      ],
      "metadata": {
        "id": "Qamj-d52qe3E"
      },
      "execution_count": 46,
      "outputs": []
    },
    {
      "cell_type": "markdown",
      "source": [
        "2010 histogram\n"
      ],
      "metadata": {
        "id": "aVGHrrAIQlmr"
      }
    },
    {
      "cell_type": "code",
      "source": [
        "data['YR0'].hist()\n",
        "plt.xticks(rotation = 90)"
      ],
      "metadata": {
        "colab": {
          "base_uri": "https://localhost:8080/",
          "height": 304
        },
        "id": "TaP_YIjRQTsE",
        "outputId": "97e4a0b6-009c-442e-b3f0-fb7a8efa4dde"
      },
      "execution_count": 51,
      "outputs": [
        {
          "output_type": "execute_result",
          "data": {
            "text/plain": [
              "(array([-10.,   0.,  10.,  20.,  30.,  40.,  50.,  60.,  70.]),\n",
              " <a list of 9 Text major ticklabel objects>)"
            ]
          },
          "metadata": {},
          "execution_count": 51
        },
        {
          "output_type": "display_data",
          "data": {
            "text/plain": [
              "<Figure size 432x288 with 1 Axes>"
            ],
            "image/png": "[encoded data removed]"
          },
          "metadata": {
            "needs_background": "light"
          }
        }
      ]
    },
    {
      "cell_type": "markdown",
      "source": [
        "2011 histogram"
      ],
      "metadata": {
        "id": "Iay6qGBPQqOm"
      }
    },
    {
      "cell_type": "code",
      "source": [
        "data['YR1'].hist()\n",
        "plt.xticks(rotation = 90)"
      ],
      "metadata": {
        "colab": {
          "base_uri": "https://localhost:8080/",
          "height": 303
        },
        "id": "FZBXUWSwQW8R",
        "outputId": "9745ecc5-cb52-4676-8814-8a4b30cbb785"
      },
      "execution_count": 52,
      "outputs": [
        {
          "output_type": "execute_result",
          "data": {
            "text/plain": [
              "(array([-10.,   0.,  10.,  20.,  30.,  40.,  50.,  60.]),\n",
              " <a list of 8 Text major ticklabel objects>)"
            ]
          },
          "metadata": {},
          "execution_count": 52
        },
        {
          "output_type": "display_data",
          "data": {
            "text/plain": [
              "<Figure size 432x288 with 1 Axes>"
            ],
            "image/png": "[encoded data removed]"
          },
          "metadata": {
            "needs_background": "light"
          }
        }
      ]
    },
    {
      "cell_type": "markdown",
      "source": [
        "2012 histogram\n"
      ],
      "metadata": {
        "id": "XWqHQbtRQrqT"
      }
    },
    {
      "cell_type": "code",
      "source": [
        "data['YR2'].hist()\n",
        "plt.xticks(rotation = 90)"
      ],
      "metadata": {
        "colab": {
          "base_uri": "https://localhost:8080/",
          "height": 303
        },
        "id": "yzMP8Jr6QfLE",
        "outputId": "7384be0d-9f32-42e4-c725-d01a3df9214c"
      },
      "execution_count": 53,
      "outputs": [
        {
          "output_type": "execute_result",
          "data": {
            "text/plain": [
              "(array([-10.,   0.,  10.,  20.,  30.,  40.,  50.,  60.,  70.]),\n",
              " <a list of 9 Text major ticklabel objects>)"
            ]
          },
          "metadata": {},
          "execution_count": 53
        },
        {
          "output_type": "display_data",
          "data": {
            "text/plain": [
              "<Figure size 432x288 with 1 Axes>"
            ],
            "image/png": "[encoded data removed]"
          },
          "metadata": {
            "needs_background": "light"
          }
        }
      ]
    },
    {
      "cell_type": "markdown",
      "source": [
        "2013 histogram\n"
      ],
      "metadata": {
        "id": "l6CJfaSGQtYL"
      }
    },
    {
      "cell_type": "code",
      "source": [
        "data['YR3'].hist()\n",
        "plt.xticks(rotation = 90)"
      ],
      "metadata": {
        "colab": {
          "base_uri": "https://localhost:8080/",
          "height": 303
        },
        "id": "JyA2sXZ6Qy5j",
        "outputId": "ef1c4807-7b0f-4c26-98eb-de2c44d59bf2"
      },
      "execution_count": 54,
      "outputs": [
        {
          "output_type": "execute_result",
          "data": {
            "text/plain": [
              "(array([-10.,   0.,  10.,  20.,  30.,  40.,  50.,  60.,  70.]),\n",
              " <a list of 9 Text major ticklabel objects>)"
            ]
          },
          "metadata": {},
          "execution_count": 54
        },
        {
          "output_type": "display_data",
          "data": {
            "text/plain": [
              "<Figure size 432x288 with 1 Axes>"
            ],
            "image/png": "[encoded data removed]"
          },
          "metadata": {
            "needs_background": "light"
          }
        }
      ]
    },
    {
      "cell_type": "markdown",
      "source": [
        "2014 histogram"
      ],
      "metadata": {
        "id": "2TRolYbmQzRL"
      }
    },
    {
      "cell_type": "code",
      "source": [
        "data['YR4'].hist()\n",
        "plt.xticks(rotation = 90)"
      ],
      "metadata": {
        "colab": {
          "base_uri": "https://localhost:8080/",
          "height": 303
        },
        "id": "SmnyDv_GQ3hD",
        "outputId": "3004580e-7213-4aaf-80c8-666937bbcc54"
      },
      "execution_count": 55,
      "outputs": [
        {
          "output_type": "execute_result",
          "data": {
            "text/plain": [
              "(array([-10.,   0.,  10.,  20.,  30.,  40.,  50.,  60.,  70.]),\n",
              " <a list of 9 Text major ticklabel objects>)"
            ]
          },
          "metadata": {},
          "execution_count": 55
        },
        {
          "output_type": "display_data",
          "data": {
            "text/plain": [
              "<Figure size 432x288 with 1 Axes>"
            ],
            "image/png": "[encoded data removed]"
          },
          "metadata": {
            "needs_background": "light"
          }
        }
      ]
    },
    {
      "cell_type": "markdown",
      "source": [
        "all together"
      ],
      "metadata": {
        "id": "co9qKF9cRLE0"
      }
    },
    {
      "cell_type": "code",
      "source": [
        "data.hist()\n",
        "plt.xticks(rotation = 90)"
      ],
      "metadata": {
        "colab": {
          "base_uri": "https://localhost:8080/",
          "height": 316
        },
        "id": "ciozD3fMREiD",
        "outputId": "e5b9cbdb-7c62-4c0c-a590-4ba0092cb00f"
      },
      "execution_count": 56,
      "outputs": [
        {
          "output_type": "execute_result",
          "data": {
            "text/plain": [
              "(array([0.  , 0.25, 0.5 , 0.75, 1.  ]),\n",
              " <a list of 5 Text major ticklabel objects>)"
            ]
          },
          "metadata": {},
          "execution_count": 56
        },
        {
          "output_type": "display_data",
          "data": {
            "text/plain": [
              "<Figure size 432x288 with 6 Axes>"
            ],
            "image/png": "[encoded data removed]"
          },
          "metadata": {
            "needs_background": "light"
          }
        }
      ]
    },
    {
      "cell_type": "markdown",
      "source": [
        "Bar plot chart"
      ],
      "metadata": {
        "id": "NyEYdI72SBkD"
      }
    },
    {
      "cell_type": "code",
      "source": [
        "fig = plt.figure()\n",
        "data.plot.bar(rot=0,figsize=(50,5))\n",
        "fig.show()"
      ],
      "metadata": {
        "colab": {
          "base_uri": "https://localhost:8080/",
          "height": 357
        },
        "id": "M_QwcU8aRIz4",
        "outputId": "08a7eb44-bcce-4b34-810a-19ad1ff6a278"
      },
      "execution_count": 58,
      "outputs": [
        {
          "output_type": "display_data",
          "data": {
            "text/plain": [
              "<Figure size 432x288 with 0 Axes>"
            ]
          },
          "metadata": {}
        },
        {
          "output_type": "display_data",
          "data": {
            "text/plain": [
              "<Figure size 3600x360 with 1 Axes>"
            ],
            "image/png": "[encoded data removed]"
          },
          "metadata": {
            "needs_background": "light"
          }
        }
      ]
    },
    {
      "cell_type": "markdown",
      "source": [
        "Stacked on top, bar chart"
      ],
      "metadata": {
        "id": "kaMsN0QsSScD"
      }
    },
    {
      "cell_type": "code",
      "source": [
        "data.plot.bar(stacked=True,figsize=(50,5))"
      ],
      "metadata": {
        "colab": {
          "base_uri": "https://localhost:8080/",
          "height": 157
        },
        "id": "fvNDWhUQSHJ2",
        "outputId": "e4b54af3-88e2-42fc-f51a-a11ef87102cd"
      },
      "execution_count": 60,
      "outputs": [
        {
          "output_type": "execute_result",
          "data": {
            "text/plain": [
              "<matplotlib.axes._subplots.AxesSubplot at 0x7f0a5d569490>"
            ]
          },
          "metadata": {},
          "execution_count": 60
        },
        {
          "output_type": "display_data",
          "data": {
            "text/plain": [
              "<Figure size 3600x360 with 1 Axes>"
            ],
            "image/png": "[encoded data removed]"
          },
          "metadata": {
            "needs_background": "light"
          }
        }
      ]
    },
    {
      "cell_type": "markdown",
      "source": [
        ""
      ],
      "metadata": {
        "id": "WJccH2r1SG3y"
      }
    },
    {
      "cell_type": "code",
      "source": [
        "data.plot.area()"
      ],
      "metadata": {
        "colab": {
          "base_uri": "https://localhost:8080/",
          "height": 282
        },
        "id": "PVnoVHO8SYy0",
        "outputId": "5784c349-70e9-4b2b-e8e2-79b23c0b0b67"
      },
      "execution_count": 61,
      "outputs": [
        {
          "output_type": "execute_result",
          "data": {
            "text/plain": [
              "<matplotlib.axes._subplots.AxesSubplot at 0x7f0a5c3a9d90>"
            ]
          },
          "metadata": {},
          "execution_count": 61
        },
        {
          "output_type": "display_data",
          "data": {
            "text/plain": [
              "<Figure size 432x288 with 1 Axes>"
            ],
            "image/png": "[encoded data removed]"
          },
          "metadata": {
            "needs_background": "light"
          }
        }
      ]
    },
    {
      "cell_type": "markdown",
      "source": [
        "Scatter plot YR1 vs YR2 relationship"
      ],
      "metadata": {
        "id": "lFzJXRvgUbGV"
      }
    },
    {
      "cell_type": "code",
      "source": [
        "fig = plt.figure()\n",
        "data.plot.scatter(x= 'YR1', y = 'YR2', alpha = 0.75,rot=0)\n",
        "plt.xticks(rotation=90)"
      ],
      "metadata": {
        "colab": {
          "base_uri": "https://localhost:8080/",
          "height": 334
        },
        "id": "qcbYoAECSa1o",
        "outputId": "f843946e-62aa-4ff6-898d-b711a4621fec"
      },
      "execution_count": 64,
      "outputs": [
        {
          "output_type": "execute_result",
          "data": {
            "text/plain": [
              "(array([-10.,   0.,  10.,  20.,  30.,  40.,  50.,  60.]),\n",
              " <a list of 8 Text major ticklabel objects>)"
            ]
          },
          "metadata": {},
          "execution_count": 64
        },
        {
          "output_type": "display_data",
          "data": {
            "text/plain": [
              "<Figure size 432x288 with 0 Axes>"
            ]
          },
          "metadata": {}
        },
        {
          "output_type": "display_data",
          "data": {
            "text/plain": [
              "<Figure size 432x288 with 1 Axes>"
            ],
            "image/png": "[encoded data removed]"
          },
          "metadata": {
            "needs_background": "light"
          }
        }
      ]
    },
    {
      "cell_type": "code",
      "source": [
        "import seaborn as sns\n",
        "line_up=sns.distplot(data['YR1'], bins=3, kde=True, rug=True)"
      ],
      "metadata": {
        "colab": {
          "base_uri": "https://localhost:8080/",
          "height": 372
        },
        "id": "wrSh5MIrSkQF",
        "outputId": "bde514e5-ea22-4063-9c57-8dc10bb73395"
      },
      "execution_count": 66,
      "outputs": [
        {
          "output_type": "stream",
          "name": "stderr",
          "text": [
            "/usr/local/lib/python3.7/dist-packages/seaborn/distributions.py:2619: FutureWarning: `distplot` is a deprecated function and will be removed in a future version. Please adapt your code to use either `displot` (a figure-level function with similar flexibility) or `histplot` (an axes-level function for histograms).\n",
            "  warnings.warn(msg, FutureWarning)\n",
            "/usr/local/lib/python3.7/dist-packages/seaborn/distributions.py:2103: FutureWarning: The `axis` variable is no longer used and will be removed. Instead, assign variables directly to `x` or `y`.\n",
            "  warnings.warn(msg, FutureWarning)\n"
          ]
        },
        {
          "output_type": "display_data",
          "data": {
            "text/plain": [
              "<Figure size 432x288 with 1 Axes>"
            ],
            "image/png": "[encoded data removed]"
          },
          "metadata": {
            "needs_background": "light"
          }
        }
      ]
    },
    {
      "cell_type": "code",
      "source": [
        ""
      ],
      "metadata": {
        "id": "-BlW1TNdU6BX"
      },
      "execution_count": null,
      "outputs": []
    }
  ]
}